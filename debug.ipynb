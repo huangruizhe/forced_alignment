{
 "cells": [
  {
   "cell_type": "code",
   "execution_count": 4,
   "metadata": {},
   "outputs": [],
   "source": [
    "from align import *"
   ]
  },
  {
   "cell_type": "code",
   "execution_count": 5,
   "metadata": {},
   "outputs": [],
   "source": [
    "from collections import namedtuple\n",
    "Opts = namedtuple('Opts', ['cuts', 'lang_dir', 'exp_dir'])\n",
    "\n",
    "opts = Opts(\n",
    "    cuts=\"/export/fs04/a12/rhuang/contextualizedASR/data/ec53_kaldi_heuristics8_2/cuts.jsonl.gz\",\n",
    "    lang_dir=\"/export/fs04/a12/rhuang/forced_alignment/data/lang_letter\",\n",
    "    exp_dir=\"/export/fs04/a12/rhuang/forced_alignment/exp/ec53_kaldi_heuristics8_2\",\n",
    ")"
   ]
  },
  {
   "cell_type": "code",
   "execution_count": 6,
   "metadata": {},
   "outputs": [
    {
     "name": "stderr",
     "output_type": "stream",
     "text": [
      "2023-01-28 22:27:59,900 - INFO - load_model:6 - torch: 1.10.1\n",
      "2023-01-28 22:27:59,902 - INFO - load_model:7 - torchaudio: 0.10.1\n",
      "2023-01-28 22:27:59,903 - INFO - load_model:13 - devide: cpu\n"
     ]
    },
    {
     "ename": "KeyboardInterrupt",
     "evalue": "",
     "output_type": "error",
     "traceback": [
      "\u001b[0;31m---------------------------------------------------------------------------\u001b[0m",
      "\u001b[0;31mKeyboardInterrupt\u001b[0m                         Traceback (most recent call last)",
      "\u001b[1;32m/export/fs04/a12/rhuang/forced_alignment/debug.ipynb Cell 3\u001b[0m in \u001b[0;36m<cell line: 1>\u001b[0;34m()\u001b[0m\n\u001b[0;32m----> <a href='vscode-notebook-cell://ssh-remote%2Bc20/export/fs04/a12/rhuang/forced_alignment/debug.ipynb#W4sdnNjb2RlLXJlbW90ZQ%3D%3D?line=0'>1</a>\u001b[0m model, labels, sample_rate, device \u001b[39m=\u001b[39m load_model(\u001b[39m\"\u001b[39;49m\u001b[39mcpu\u001b[39;49m\u001b[39m\"\u001b[39;49m)\n\u001b[1;32m      <a href='vscode-notebook-cell://ssh-remote%2Bc20/export/fs04/a12/rhuang/forced_alignment/debug.ipynb#W4sdnNjb2RlLXJlbW90ZQ%3D%3D?line=1'>2</a>\u001b[0m space_token \u001b[39m=\u001b[39m \u001b[39m\"\u001b[39m\u001b[39m|\u001b[39m\u001b[39m\"\u001b[39m\n",
      "File \u001b[0;32m/export/fs04/a12/rhuang/forced_alignment/utils/model.py:16\u001b[0m, in \u001b[0;36mload_model\u001b[0;34m(device)\u001b[0m\n\u001b[1;32m     13\u001b[0m logging\u001b[39m.\u001b[39minfo(\u001b[39mf\u001b[39m\u001b[39m\"\u001b[39m\u001b[39mdevide: \u001b[39m\u001b[39m{\u001b[39;00mdevice\u001b[39m}\u001b[39;00m\u001b[39m\"\u001b[39m)\n\u001b[1;32m     15\u001b[0m bundle \u001b[39m=\u001b[39m torchaudio\u001b[39m.\u001b[39mpipelines\u001b[39m.\u001b[39mWAV2VEC2_ASR_BASE_960H\n\u001b[0;32m---> 16\u001b[0m model \u001b[39m=\u001b[39m bundle\u001b[39m.\u001b[39;49mget_model()\u001b[39m.\u001b[39mto(device)\n\u001b[1;32m     17\u001b[0m labels \u001b[39m=\u001b[39m bundle\u001b[39m.\u001b[39mget_labels()\n\u001b[1;32m     18\u001b[0m sample_rate \u001b[39m=\u001b[39m bundle\u001b[39m.\u001b[39msample_rate\n",
      "File \u001b[0;32m/export/fs04/a12/rhuang/anaconda/anaconda3/envs/espnet_gpu/lib/python3.8/site-packages/torchaudio/pipelines/_wav2vec2.py:70\u001b[0m, in \u001b[0;36mWav2Vec2Bundle.get_model\u001b[0;34m(self, dl_kwargs)\u001b[0m\n\u001b[1;32m     68\u001b[0m url \u001b[39m=\u001b[39m \u001b[39mf\u001b[39m\u001b[39m'\u001b[39m\u001b[39mhttps://download.pytorch.org/torchaudio/models/\u001b[39m\u001b[39m{\u001b[39;00m\u001b[39mself\u001b[39m\u001b[39m.\u001b[39m_path\u001b[39m}\u001b[39;00m\u001b[39m'\u001b[39m\n\u001b[1;32m     69\u001b[0m dl_kwargs \u001b[39m=\u001b[39m {} \u001b[39mif\u001b[39;00m dl_kwargs \u001b[39mis\u001b[39;00m \u001b[39mNone\u001b[39;00m \u001b[39melse\u001b[39;00m dl_kwargs\n\u001b[0;32m---> 70\u001b[0m state_dict \u001b[39m=\u001b[39m load_state_dict_from_url(url, \u001b[39m*\u001b[39;49m\u001b[39m*\u001b[39;49mdl_kwargs)\n\u001b[1;32m     71\u001b[0m model\u001b[39m.\u001b[39mload_state_dict(state_dict)\n\u001b[1;32m     72\u001b[0m model\u001b[39m.\u001b[39meval()\n",
      "File \u001b[0;32m/export/fs04/a12/rhuang/anaconda/anaconda3/envs/espnet_gpu/lib/python3.8/site-packages/torch/hub.py:590\u001b[0m, in \u001b[0;36mload_state_dict_from_url\u001b[0;34m(url, model_dir, map_location, progress, check_hash, file_name)\u001b[0m\n\u001b[1;32m    588\u001b[0m \u001b[39mif\u001b[39;00m _is_legacy_zip_format(cached_file):\n\u001b[1;32m    589\u001b[0m     \u001b[39mreturn\u001b[39;00m _legacy_zip_load(cached_file, model_dir, map_location)\n\u001b[0;32m--> 590\u001b[0m \u001b[39mreturn\u001b[39;00m torch\u001b[39m.\u001b[39;49mload(cached_file, map_location\u001b[39m=\u001b[39;49mmap_location)\n",
      "File \u001b[0;32m/export/fs04/a12/rhuang/anaconda/anaconda3/envs/espnet_gpu/lib/python3.8/site-packages/torch/serialization.py:607\u001b[0m, in \u001b[0;36mload\u001b[0;34m(f, map_location, pickle_module, **pickle_load_args)\u001b[0m\n\u001b[1;32m    605\u001b[0m             opened_file\u001b[39m.\u001b[39mseek(orig_position)\n\u001b[1;32m    606\u001b[0m             \u001b[39mreturn\u001b[39;00m torch\u001b[39m.\u001b[39mjit\u001b[39m.\u001b[39mload(opened_file)\n\u001b[0;32m--> 607\u001b[0m         \u001b[39mreturn\u001b[39;00m _load(opened_zipfile, map_location, pickle_module, \u001b[39m*\u001b[39;49m\u001b[39m*\u001b[39;49mpickle_load_args)\n\u001b[1;32m    608\u001b[0m \u001b[39mreturn\u001b[39;00m _legacy_load(opened_file, map_location, pickle_module, \u001b[39m*\u001b[39m\u001b[39m*\u001b[39mpickle_load_args)\n",
      "File \u001b[0;32m/export/fs04/a12/rhuang/anaconda/anaconda3/envs/espnet_gpu/lib/python3.8/site-packages/torch/serialization.py:882\u001b[0m, in \u001b[0;36m_load\u001b[0;34m(zip_file, map_location, pickle_module, pickle_file, **pickle_load_args)\u001b[0m\n\u001b[1;32m    880\u001b[0m unpickler \u001b[39m=\u001b[39m UnpicklerWrapper(data_file, \u001b[39m*\u001b[39m\u001b[39m*\u001b[39mpickle_load_args)\n\u001b[1;32m    881\u001b[0m unpickler\u001b[39m.\u001b[39mpersistent_load \u001b[39m=\u001b[39m persistent_load\n\u001b[0;32m--> 882\u001b[0m result \u001b[39m=\u001b[39m unpickler\u001b[39m.\u001b[39;49mload()\n\u001b[1;32m    884\u001b[0m torch\u001b[39m.\u001b[39m_utils\u001b[39m.\u001b[39m_validate_loaded_sparse_tensors()\n\u001b[1;32m    886\u001b[0m \u001b[39mreturn\u001b[39;00m result\n",
      "File \u001b[0;32m/export/fs04/a12/rhuang/anaconda/anaconda3/envs/espnet_gpu/lib/python3.8/site-packages/torch/serialization.py:857\u001b[0m, in \u001b[0;36m_load.<locals>.persistent_load\u001b[0;34m(saved_id)\u001b[0m\n\u001b[1;32m    855\u001b[0m data_type, key, location, size \u001b[39m=\u001b[39m data\n\u001b[1;32m    856\u001b[0m \u001b[39mif\u001b[39;00m key \u001b[39mnot\u001b[39;00m \u001b[39min\u001b[39;00m loaded_storages:\n\u001b[0;32m--> 857\u001b[0m     load_tensor(data_type, size, key, _maybe_decode_ascii(location))\n\u001b[1;32m    858\u001b[0m storage \u001b[39m=\u001b[39m loaded_storages[key]\n\u001b[1;32m    859\u001b[0m \u001b[39mreturn\u001b[39;00m storage\n",
      "File \u001b[0;32m/export/fs04/a12/rhuang/anaconda/anaconda3/envs/espnet_gpu/lib/python3.8/site-packages/torch/serialization.py:845\u001b[0m, in \u001b[0;36m_load.<locals>.load_tensor\u001b[0;34m(data_type, size, key, location)\u001b[0m\n\u001b[1;32m    842\u001b[0m name \u001b[39m=\u001b[39m \u001b[39mf\u001b[39m\u001b[39m'\u001b[39m\u001b[39mdata/\u001b[39m\u001b[39m{\u001b[39;00mkey\u001b[39m}\u001b[39;00m\u001b[39m'\u001b[39m\n\u001b[1;32m    843\u001b[0m dtype \u001b[39m=\u001b[39m data_type(\u001b[39m0\u001b[39m)\u001b[39m.\u001b[39mdtype\n\u001b[0;32m--> 845\u001b[0m storage \u001b[39m=\u001b[39m zip_file\u001b[39m.\u001b[39;49mget_storage_from_record(name, size, dtype)\u001b[39m.\u001b[39mstorage()\n\u001b[1;32m    846\u001b[0m loaded_storages[key] \u001b[39m=\u001b[39m restore_location(storage, location)\n",
      "\u001b[0;31mKeyboardInterrupt\u001b[0m: "
     ]
    }
   ],
   "source": [
    "model, labels, sample_rate, device = load_model(\"cpu\")\n",
    "space_token = \"|\""
   ]
  },
  {
   "cell_type": "code",
   "execution_count": 7,
   "metadata": {},
   "outputs": [
    {
     "name": "stderr",
     "output_type": "stream",
     "text": [
      "2023-01-28 22:28:08,771 - INFO - __init__:168 - Loading pre-compiled /export/fs04/a12/rhuang/forced_alignment/data/lang_letter/Linv.pt\n"
     ]
    },
    {
     "name": "stdout",
     "output_type": "stream",
     "text": [
      "Cut statistics:\n",
      "╒═══════════════════════════╤══════════╕\n",
      "│ Cuts count:               │ 20       │\n",
      "├───────────────────────────┼──────────┤\n",
      "│ Total duration (hh:mm:ss) │ 00:01:28 │\n",
      "├───────────────────────────┼──────────┤\n",
      "│ mean                      │ 4.4      │\n",
      "├───────────────────────────┼──────────┤\n",
      "│ std                       │ 2.2      │\n",
      "├───────────────────────────┼──────────┤\n",
      "│ min                       │ 0.5      │\n",
      "├───────────────────────────┼──────────┤\n",
      "│ 25%                       │ 2.6      │\n",
      "├───────────────────────────┼──────────┤\n",
      "│ 50%                       │ 4.0      │\n",
      "├───────────────────────────┼──────────┤\n",
      "│ 75%                       │ 6.5      │\n",
      "├───────────────────────────┼──────────┤\n",
      "│ 99%                       │ 8.3      │\n",
      "├───────────────────────────┼──────────┤\n",
      "│ 99.5%                     │ 8.4      │\n",
      "├───────────────────────────┼──────────┤\n",
      "│ 99.9%                     │ 8.5      │\n",
      "├───────────────────────────┼──────────┤\n",
      "│ max                       │ 8.5      │\n",
      "├───────────────────────────┼──────────┤\n",
      "│ Recordings available:     │ 20       │\n",
      "├───────────────────────────┼──────────┤\n",
      "│ Features available:       │ 0        │\n",
      "├───────────────────────────┼──────────┤\n",
      "│ Supervisions available:   │ 20       │\n",
      "╘═══════════════════════════╧══════════╛\n",
      "Speech duration statistics:\n",
      "╒══════════════════════════════╤══════════╤══════════════════════╕\n",
      "│ Total speech duration        │ 00:01:28 │ 100.00% of recording │\n",
      "├──────────────────────────────┼──────────┼──────────────────────┤\n",
      "│ Total speaking time duration │ 00:01:28 │ 100.00% of recording │\n",
      "├──────────────────────────────┼──────────┼──────────────────────┤\n",
      "│ Total silence duration       │ 00:00:00 │ 0.00% of recording   │\n",
      "╘══════════════════════════════╧══════════╧══════════════════════╛\n"
     ]
    }
   ],
   "source": [
    "cuts = CutSet.from_file(opts.cuts)\n",
    "cuts = cuts.resample(sample_rate)\n",
    "cuts.describe()\n",
    "\n",
    "lexicon = Lexicon(opts.lang_dir)\n",
    "lexicon.disambig_pattern = re.compile(r\"^#.+$\")\n",
    "\n",
    "T, L = get_T_and_L(lexicon, opts.lang_dir)\n",
    "\n",
    "dataset = K2SpeechRecognitionDataset(\n",
    "    input_strategy=AudioSamples(),\n",
    "    # input_strategy=OnTheFlyFeatures(Fbank(FbankConfig(num_mel_bins=80))),\n",
    "    return_cuts=True,\n",
    ")\n",
    "sampler = DynamicBucketingSampler(cuts, max_duration=200, num_buckets=min(30, len(cuts)))\n",
    "dl = DataLoader(dataset, batch_size=None, sampler=sampler, num_workers=0)\n",
    "\n",
    "num_cuts = 0\n",
    "log_interval = 20\n",
    "try:\n",
    "    num_batches = len(dl)\n",
    "except TypeError:\n",
    "    num_batches = \"?\""
   ]
  },
  {
   "cell_type": "code",
   "execution_count": 8,
   "metadata": {},
   "outputs": [],
   "source": [
    "batches = [batch for batch_idx, batch in enumerate(dl)]"
   ]
  },
  {
   "cell_type": "code",
   "execution_count": 9,
   "metadata": {},
   "outputs": [
    {
     "name": "stdout",
     "output_type": "stream",
     "text": [
      "2\n",
      "[MonoCut(id='session5_speaker5_5', start=31.68, duration=7.49, channel=0, supervisions=[SupervisionSegment(id='session5_speaker5_5', recording_id='session5_speaker5', start=0.0, duration=7.49, channel=0, text='EMMA THANK YOU VERY MUCH', language=None, speaker=None, gender=None, custom=None, alignment=None)], features=None, recording=Recording(id='session5_speaker5', sources=[AudioSource(type='file', channels=[0], source='/export/fs04/a12/rhuang/contextualizedASR/data/ec53_json//BAYZF_2018_Q4_20190227.wav')], sampling_rate=16000, num_samples=64561536, duration=4035.096, channel_ids=[0], transforms=None), custom=None), MonoCut(id='session12_speaker12_12', start=27.68, duration=7.49, channel=0, supervisions=[SupervisionSegment(id='session12_speaker12_12', recording_id='session12_speaker12', start=0.0, duration=7.49, channel=0, text='EMMA THANK YOU VERY MUCH', language=None, speaker=None, gender=None, custom=None, alignment=None)], features=None, recording=Recording(id='session12_speaker12', sources=[AudioSource(type='file', channels=[0], source='/export/fs04/a12/rhuang/contextualizedASR/data/ec53_json//BAYZF_2018_Q4_20190227.wav')], sampling_rate=16000, num_samples=64561536, duration=4035.096, channel_ids=[0], transforms=None), custom=None)]\n"
     ]
    }
   ],
   "source": [
    "batch = batches[0]\n",
    "audios = batch['inputs']\n",
    "supervisions = batch[\"supervisions\"]\n",
    "texts = batch[\"supervisions\"][\"text\"]\n",
    "texts = [clean_transcript(text, labels, upper=True, space_symbol=space_token) for text in texts]\n",
    "cut_ids = [cut.id for cut in batch[\"supervisions\"][\"cut\"]]\n",
    "\n",
    "print(len(batch))\n",
    "print(batch[\"supervisions\"][\"cut\"])"
   ]
  },
  {
   "cell_type": "code",
   "execution_count": 10,
   "metadata": {},
   "outputs": [],
   "source": [
    "Gs = []\n",
    "for text in texts:\n",
    "    Gs.append(make_grammar(text.split(space_token), lexicon))\n",
    "Gs = k2.create_fsa_vec(Gs)"
   ]
  },
  {
   "cell_type": "code",
   "execution_count": 11,
   "metadata": {},
   "outputs": [
    {
     "name": "stderr",
     "output_type": "stream",
     "text": [
      "2023-01-28 22:28:17,101 - DEBUG - decorator:148 - deprecate positional args: graphviz.backend.piping.pipe(['renderer', 'formatter', 'quiet'])\n",
      "2023-01-28 22:28:17,105 - DEBUG - decorator:148 - deprecate positional args: graphviz.backend.rendering.render(['renderer', 'formatter', 'quiet'])\n",
      "2023-01-28 22:28:17,108 - DEBUG - decorator:148 - deprecate positional args: graphviz.backend.unflattening.unflatten(['stagger', 'fanout', 'chain', 'encoding'])\n",
      "2023-01-28 22:28:17,111 - DEBUG - decorator:148 - deprecate positional args: graphviz.backend.viewing.view(['quiet'])\n",
      "2023-01-28 22:28:17,327 - DEBUG - decorator:148 - deprecate positional args: graphviz.quoting.quote(['is_html_string', 'is_valid_id', 'dot_keywords', 'escape_unescaped_quotes'])\n",
      "2023-01-28 22:28:17,329 - DEBUG - decorator:148 - deprecate positional args: graphviz.quoting.a_list(['kwargs', 'attributes'])\n",
      "2023-01-28 22:28:17,330 - DEBUG - decorator:148 - deprecate positional args: graphviz.quoting.attr_list(['kwargs', 'attributes'])\n",
      "2023-01-28 22:28:17,332 - DEBUG - decorator:148 - deprecate positional args: graphviz.dot.Dot.clear(['keep_attrs'])\n",
      "2023-01-28 22:28:17,333 - DEBUG - decorator:148 - deprecate positional args: graphviz.dot.Dot.__iter__(['subgraph'])\n",
      "2023-01-28 22:28:17,334 - DEBUG - decorator:148 - deprecate positional args: graphviz.dot.Dot.node(['_attributes'])\n",
      "2023-01-28 22:28:17,335 - DEBUG - decorator:148 - deprecate positional args: graphviz.dot.Dot.edge(['_attributes'])\n",
      "2023-01-28 22:28:17,336 - DEBUG - decorator:148 - deprecate positional args: graphviz.dot.Dot.attr(['_attributes'])\n",
      "2023-01-28 22:28:17,337 - DEBUG - decorator:148 - deprecate positional args: graphviz.dot.Dot.subgraph(['name', 'comment', 'graph_attr', 'node_attr', 'edge_attr', 'body'])\n",
      "2023-01-28 22:28:17,550 - DEBUG - decorator:148 - deprecate positional args: graphviz.piping.Pipe._pipe_legacy(['renderer', 'formatter', 'quiet'])\n",
      "2023-01-28 22:28:17,556 - DEBUG - decorator:148 - deprecate positional args: graphviz.saving.Save.save(['directory'])\n",
      "2023-01-28 22:28:17,557 - DEBUG - decorator:148 - deprecate positional args: graphviz.rendering.Render.render(['directory', 'view', 'cleanup', 'format', 'renderer', 'formatter', 'quiet', 'quiet_view'])\n",
      "2023-01-28 22:28:17,559 - DEBUG - decorator:148 - deprecate positional args: graphviz.rendering.Render.view(['directory', 'cleanup', 'quiet', 'quiet_view'])\n",
      "2023-01-28 22:28:17,563 - DEBUG - decorator:148 - deprecate positional args: graphviz.unflattening.Unflatten.unflatten(['stagger', 'fanout', 'chain'])\n",
      "2023-01-28 22:28:17,564 - DEBUG - decorator:148 - deprecate positional args: graphviz.graphs.BaseGraph.__init__(['comment', 'filename', 'directory', 'format', 'engine', 'encoding', 'graph_attr', 'node_attr', 'edge_attr', 'body', 'strict'])\n",
      "2023-01-28 22:28:17,568 - DEBUG - decorator:148 - deprecate positional args: graphviz.sources.Source.from_file(['directory', 'format', 'engine', 'encoding', 'renderer', 'formatter'])\n",
      "2023-01-28 22:28:17,569 - DEBUG - decorator:148 - deprecate positional args: graphviz.sources.Source.__init__(['filename', 'directory', 'format', 'engine', 'encoding'])\n",
      "2023-01-28 22:28:17,570 - DEBUG - decorator:148 - deprecate positional args: graphviz.sources.Source.save(['directory'])\n",
      "2023-01-28 22:28:17,576 - DEBUG - run_check:64 - run [PosixPath('dot'), '-Kdot', '-Tsvg']\n"
     ]
    },
    {
     "data": {
      "image/svg+xml": "<?xml version=\"1.0\" encoding=\"UTF-8\" standalone=\"no\"?>\n<!DOCTYPE svg PUBLIC \"-//W3C//DTD SVG 1.1//EN\"\n \"http://www.w3.org/Graphics/SVG/1.1/DTD/svg11.dtd\">\n<!-- Generated by graphviz version 2.50.0 (20220117.2223)\n -->\n<!-- Title: WFST Pages: 1 -->\n<svg width=\"612pt\" height=\"95pt\"\n viewBox=\"0.00 0.00 612.00 94.87\" xmlns=\"http://www.w3.org/2000/svg\" xmlns:xlink=\"http://www.w3.org/1999/xlink\">\n<g id=\"graph0\" class=\"graph\" transform=\"scale(0.82 0.82) rotate(0) translate(4 111.41)\">\n<title>WFST</title>\n<polygon fill=\"white\" stroke=\"transparent\" points=\"-4,4 -4,-111.41 740.5,-111.41 740.5,4 -4,4\"/>\n<!-- 0 -->\n<g id=\"node1\" class=\"node\">\n<title>0</title>\n<ellipse fill=\"none\" stroke=\"black\" stroke-width=\"2\" cx=\"18.5\" cy=\"-23.41\" rx=\"18\" ry=\"18\"/>\n<text text-anchor=\"middle\" x=\"18.5\" y=\"-19.71\" font-family=\"Times,serif\" font-size=\"14.00\">0</text>\n</g>\n<!-- 0&#45;&gt;0 -->\n<g id=\"edge1\" class=\"edge\">\n<title>0&#45;&gt;0</title>\n<path fill=\"none\" stroke=\"black\" d=\"M8.69,-38.58C5.71,-49.08 8.98,-59.41 18.5,-59.41 24.74,-59.41 28.3,-54.96 29.17,-48.93\"/>\n<polygon fill=\"black\" stroke=\"black\" points=\"32.62,-48.26 28.31,-38.58 25.65,-48.83 32.62,-48.26\"/>\n<text text-anchor=\"middle\" x=\"18.5\" y=\"-63.21\" font-family=\"Times,serif\" font-size=\"14.00\">9:9/0</text>\n</g>\n<!-- 1 -->\n<g id=\"node2\" class=\"node\">\n<title>1</title>\n<ellipse fill=\"none\" stroke=\"black\" stroke-width=\"2\" cx=\"134.5\" cy=\"-23.41\" rx=\"18\" ry=\"18\"/>\n<text text-anchor=\"middle\" x=\"134.5\" y=\"-19.71\" font-family=\"Times,serif\" font-size=\"14.00\">1</text>\n</g>\n<!-- 0&#45;&gt;1 -->\n<g id=\"edge2\" class=\"edge\">\n<title>0&#45;&gt;1</title>\n<path fill=\"none\" stroke=\"black\" d=\"M36.81,-23.41C55.25,-23.41 84.68,-23.41 106.24,-23.41\"/>\n<polygon fill=\"black\" stroke=\"black\" points=\"106.4,-26.91 116.4,-23.41 106.4,-19.91 106.4,-26.91\"/>\n<text text-anchor=\"middle\" x=\"76.5\" y=\"-27.21\" font-family=\"Times,serif\" font-size=\"14.00\">2:2/0</text>\n</g>\n<!-- 0&#45;&gt;1 -->\n<g id=\"edge3\" class=\"edge\">\n<title>0&#45;&gt;1</title>\n<path fill=\"none\" stroke=\"black\" d=\"M33.41,-12.95C38.77,-9.53 45.14,-6.16 51.5,-4.41 72.93,1.47 80.07,1.47 101.5,-4.41 104.58,-5.26 107.66,-6.48 110.63,-7.91\"/>\n<polygon fill=\"black\" stroke=\"black\" points=\"109.16,-11.1 119.59,-12.95 112.59,-5 109.16,-11.1\"/>\n<text text-anchor=\"middle\" x=\"76.5\" y=\"-8.21\" font-family=\"Times,serif\" font-size=\"14.00\">8:8/&#45;20</text>\n</g>\n<!-- 1&#45;&gt;1 -->\n<g id=\"edge6\" class=\"edge\">\n<title>1&#45;&gt;1</title>\n<path fill=\"none\" stroke=\"black\" d=\"M129.32,-40.82C128.36,-50.5 130.08,-59.41 134.5,-59.41 137.26,-59.41 138.97,-55.93 139.63,-50.96\"/>\n<polygon fill=\"black\" stroke=\"black\" points=\"143.13,-50.84 139.68,-40.82 136.13,-50.8 143.13,-50.84\"/>\n<text text-anchor=\"middle\" x=\"134.5\" y=\"-63.21\" font-family=\"Times,serif\" font-size=\"14.00\">1:1/0</text>\n</g>\n<!-- 1&#45;&gt;1 -->\n<g id=\"edge7\" class=\"edge\">\n<title>1&#45;&gt;1</title>\n<path fill=\"none\" stroke=\"black\" d=\"M126.26,-39.72C120.93,-57.37 123.68,-77.41 134.5,-77.41 143.29,-77.41 146.75,-64.18 144.88,-49.75\"/>\n<polygon fill=\"black\" stroke=\"black\" points=\"148.25,-48.77 142.74,-39.72 141.41,-50.23 148.25,-48.77\"/>\n<text text-anchor=\"middle\" x=\"134.5\" y=\"-81.21\" font-family=\"Times,serif\" font-size=\"14.00\">9:9/0</text>\n</g>\n<!-- 2 -->\n<g id=\"node3\" class=\"node\">\n<title>2</title>\n<ellipse fill=\"none\" stroke=\"black\" stroke-width=\"2\" cx=\"250.5\" cy=\"-23.41\" rx=\"18\" ry=\"18\"/>\n<text text-anchor=\"middle\" x=\"250.5\" y=\"-19.71\" font-family=\"Times,serif\" font-size=\"14.00\">2</text>\n</g>\n<!-- 1&#45;&gt;2 -->\n<g id=\"edge4\" class=\"edge\">\n<title>1&#45;&gt;2</title>\n<path fill=\"none\" stroke=\"black\" d=\"M152.81,-23.41C171.25,-23.41 200.68,-23.41 222.24,-23.41\"/>\n<polygon fill=\"black\" stroke=\"black\" points=\"222.4,-26.91 232.4,-23.41 222.4,-19.91 222.4,-26.91\"/>\n<text text-anchor=\"middle\" x=\"192.5\" y=\"-27.21\" font-family=\"Times,serif\" font-size=\"14.00\">3:3/0</text>\n</g>\n<!-- 1&#45;&gt;2 -->\n<g id=\"edge5\" class=\"edge\">\n<title>1&#45;&gt;2</title>\n<path fill=\"none\" stroke=\"black\" d=\"M149.41,-12.95C154.77,-9.53 161.14,-6.16 167.5,-4.41 188.93,1.47 196.07,1.47 217.5,-4.41 220.58,-5.26 223.66,-6.48 226.63,-7.91\"/>\n<polygon fill=\"black\" stroke=\"black\" points=\"225.16,-11.1 235.59,-12.95 228.59,-5 225.16,-11.1\"/>\n<text text-anchor=\"middle\" x=\"192.5\" y=\"-8.21\" font-family=\"Times,serif\" font-size=\"14.00\">8:8/&#45;25</text>\n</g>\n<!-- 2&#45;&gt;2 -->\n<g id=\"edge10\" class=\"edge\">\n<title>2&#45;&gt;2</title>\n<path fill=\"none\" stroke=\"black\" d=\"M245.32,-40.82C244.36,-50.5 246.08,-59.41 250.5,-59.41 253.26,-59.41 254.97,-55.93 255.63,-50.96\"/>\n<polygon fill=\"black\" stroke=\"black\" points=\"259.13,-50.84 255.68,-40.82 252.13,-50.8 259.13,-50.84\"/>\n<text text-anchor=\"middle\" x=\"250.5\" y=\"-63.21\" font-family=\"Times,serif\" font-size=\"14.00\">1:1/0</text>\n</g>\n<!-- 2&#45;&gt;2 -->\n<g id=\"edge11\" class=\"edge\">\n<title>2&#45;&gt;2</title>\n<path fill=\"none\" stroke=\"black\" d=\"M242.26,-39.72C236.93,-57.37 239.68,-77.41 250.5,-77.41 259.29,-77.41 262.75,-64.18 260.88,-49.75\"/>\n<polygon fill=\"black\" stroke=\"black\" points=\"264.25,-48.77 258.74,-39.72 257.41,-50.23 264.25,-48.77\"/>\n<text text-anchor=\"middle\" x=\"250.5\" y=\"-81.21\" font-family=\"Times,serif\" font-size=\"14.00\">9:9/0</text>\n</g>\n<!-- 3 -->\n<g id=\"node4\" class=\"node\">\n<title>3</title>\n<ellipse fill=\"none\" stroke=\"black\" stroke-width=\"2\" cx=\"366.5\" cy=\"-23.41\" rx=\"18\" ry=\"18\"/>\n<text text-anchor=\"middle\" x=\"366.5\" y=\"-19.71\" font-family=\"Times,serif\" font-size=\"14.00\">3</text>\n</g>\n<!-- 2&#45;&gt;3 -->\n<g id=\"edge8\" class=\"edge\">\n<title>2&#45;&gt;3</title>\n<path fill=\"none\" stroke=\"black\" d=\"M268.81,-23.41C287.25,-23.41 316.68,-23.41 338.24,-23.41\"/>\n<polygon fill=\"black\" stroke=\"black\" points=\"338.4,-26.91 348.4,-23.41 338.4,-19.91 338.4,-26.91\"/>\n<text text-anchor=\"middle\" x=\"308.5\" y=\"-27.21\" font-family=\"Times,serif\" font-size=\"14.00\">4:4/0</text>\n</g>\n<!-- 2&#45;&gt;3 -->\n<g id=\"edge9\" class=\"edge\">\n<title>2&#45;&gt;3</title>\n<path fill=\"none\" stroke=\"black\" d=\"M265.41,-12.95C270.77,-9.53 277.14,-6.16 283.5,-4.41 304.93,1.47 312.07,1.47 333.5,-4.41 336.58,-5.26 339.66,-6.48 342.63,-7.91\"/>\n<polygon fill=\"black\" stroke=\"black\" points=\"341.16,-11.1 351.59,-12.95 344.59,-5 341.16,-11.1\"/>\n<text text-anchor=\"middle\" x=\"308.5\" y=\"-8.21\" font-family=\"Times,serif\" font-size=\"14.00\">8:8/&#45;15</text>\n</g>\n<!-- 3&#45;&gt;3 -->\n<g id=\"edge14\" class=\"edge\">\n<title>3&#45;&gt;3</title>\n<path fill=\"none\" stroke=\"black\" d=\"M361.32,-40.82C360.36,-50.5 362.08,-59.41 366.5,-59.41 369.26,-59.41 370.97,-55.93 371.63,-50.96\"/>\n<polygon fill=\"black\" stroke=\"black\" points=\"375.13,-50.84 371.68,-40.82 368.13,-50.8 375.13,-50.84\"/>\n<text text-anchor=\"middle\" x=\"366.5\" y=\"-63.21\" font-family=\"Times,serif\" font-size=\"14.00\">1:1/0</text>\n</g>\n<!-- 3&#45;&gt;3 -->\n<g id=\"edge15\" class=\"edge\">\n<title>3&#45;&gt;3</title>\n<path fill=\"none\" stroke=\"black\" d=\"M358.26,-39.72C352.93,-57.37 355.68,-77.41 366.5,-77.41 375.29,-77.41 378.75,-64.18 376.88,-49.75\"/>\n<polygon fill=\"black\" stroke=\"black\" points=\"380.25,-48.77 374.74,-39.72 373.41,-50.23 380.25,-48.77\"/>\n<text text-anchor=\"middle\" x=\"366.5\" y=\"-81.21\" font-family=\"Times,serif\" font-size=\"14.00\">9:9/0</text>\n</g>\n<!-- 4 -->\n<g id=\"node5\" class=\"node\">\n<title>4</title>\n<ellipse fill=\"none\" stroke=\"black\" stroke-width=\"2\" cx=\"482.5\" cy=\"-23.41\" rx=\"18\" ry=\"18\"/>\n<text text-anchor=\"middle\" x=\"482.5\" y=\"-19.71\" font-family=\"Times,serif\" font-size=\"14.00\">4</text>\n</g>\n<!-- 3&#45;&gt;4 -->\n<g id=\"edge12\" class=\"edge\">\n<title>3&#45;&gt;4</title>\n<path fill=\"none\" stroke=\"black\" d=\"M384.81,-23.41C403.25,-23.41 432.68,-23.41 454.24,-23.41\"/>\n<polygon fill=\"black\" stroke=\"black\" points=\"454.4,-26.91 464.4,-23.41 454.4,-19.91 454.4,-26.91\"/>\n<text text-anchor=\"middle\" x=\"424.5\" y=\"-27.21\" font-family=\"Times,serif\" font-size=\"14.00\">5:5/0</text>\n</g>\n<!-- 3&#45;&gt;4 -->\n<g id=\"edge13\" class=\"edge\">\n<title>3&#45;&gt;4</title>\n<path fill=\"none\" stroke=\"black\" d=\"M381.41,-12.95C386.77,-9.53 393.14,-6.16 399.5,-4.41 420.93,1.47 428.07,1.47 449.5,-4.41 452.58,-5.26 455.66,-6.48 458.63,-7.91\"/>\n<polygon fill=\"black\" stroke=\"black\" points=\"457.16,-11.1 467.59,-12.95 460.59,-5 457.16,-11.1\"/>\n<text text-anchor=\"middle\" x=\"424.5\" y=\"-8.21\" font-family=\"Times,serif\" font-size=\"14.00\">8:8/&#45;20</text>\n</g>\n<!-- 4&#45;&gt;4 -->\n<g id=\"edge18\" class=\"edge\">\n<title>4&#45;&gt;4</title>\n<path fill=\"none\" stroke=\"black\" d=\"M477.32,-40.82C476.36,-50.5 478.08,-59.41 482.5,-59.41 485.26,-59.41 486.97,-55.93 487.63,-50.96\"/>\n<polygon fill=\"black\" stroke=\"black\" points=\"491.13,-50.84 487.68,-40.82 484.13,-50.8 491.13,-50.84\"/>\n<text text-anchor=\"middle\" x=\"482.5\" y=\"-63.21\" font-family=\"Times,serif\" font-size=\"14.00\">1:1/0</text>\n</g>\n<!-- 4&#45;&gt;4 -->\n<g id=\"edge19\" class=\"edge\">\n<title>4&#45;&gt;4</title>\n<path fill=\"none\" stroke=\"black\" d=\"M474.26,-39.72C468.93,-57.37 471.68,-77.41 482.5,-77.41 491.29,-77.41 494.75,-64.18 492.88,-49.75\"/>\n<polygon fill=\"black\" stroke=\"black\" points=\"496.25,-48.77 490.74,-39.72 489.41,-50.23 496.25,-48.77\"/>\n<text text-anchor=\"middle\" x=\"482.5\" y=\"-81.21\" font-family=\"Times,serif\" font-size=\"14.00\">9:9/0</text>\n</g>\n<!-- 5 -->\n<g id=\"node6\" class=\"node\">\n<title>5</title>\n<ellipse fill=\"none\" stroke=\"black\" stroke-width=\"2\" cx=\"598.5\" cy=\"-23.41\" rx=\"18\" ry=\"18\"/>\n<text text-anchor=\"middle\" x=\"598.5\" y=\"-19.71\" font-family=\"Times,serif\" font-size=\"14.00\">5</text>\n</g>\n<!-- 4&#45;&gt;5 -->\n<g id=\"edge16\" class=\"edge\">\n<title>4&#45;&gt;5</title>\n<path fill=\"none\" stroke=\"black\" d=\"M500.81,-23.41C519.25,-23.41 548.68,-23.41 570.24,-23.41\"/>\n<polygon fill=\"black\" stroke=\"black\" points=\"570.4,-26.91 580.4,-23.41 570.4,-19.91 570.4,-26.91\"/>\n<text text-anchor=\"middle\" x=\"540.5\" y=\"-27.21\" font-family=\"Times,serif\" font-size=\"14.00\">6:6/0</text>\n</g>\n<!-- 4&#45;&gt;5 -->\n<g id=\"edge17\" class=\"edge\">\n<title>4&#45;&gt;5</title>\n<path fill=\"none\" stroke=\"black\" d=\"M497.41,-12.95C502.77,-9.53 509.14,-6.16 515.5,-4.41 536.93,1.47 544.07,1.47 565.5,-4.41 568.58,-5.26 571.66,-6.48 574.63,-7.91\"/>\n<polygon fill=\"black\" stroke=\"black\" points=\"573.16,-11.1 583.59,-12.95 576.59,-5 573.16,-11.1\"/>\n<text text-anchor=\"middle\" x=\"540.5\" y=\"-8.21\" font-family=\"Times,serif\" font-size=\"14.00\">8:8/&#45;20</text>\n</g>\n<!-- 5&#45;&gt;5 -->\n<g id=\"edge20\" class=\"edge\">\n<title>5&#45;&gt;5</title>\n<path fill=\"none\" stroke=\"black\" d=\"M588.93,-38.95C586.23,-49.32 589.42,-59.41 598.5,-59.41 604.46,-59.41 607.88,-55.07 608.77,-49.15\"/>\n<polygon fill=\"black\" stroke=\"black\" points=\"612.24,-48.69 608.07,-38.95 605.26,-49.17 612.24,-48.69\"/>\n<text text-anchor=\"middle\" x=\"598.5\" y=\"-63.21\" font-family=\"Times,serif\" font-size=\"14.00\">9:9/0</text>\n</g>\n<!-- 6 -->\n<g id=\"node7\" class=\"node\">\n<title>6</title>\n<ellipse fill=\"none\" stroke=\"black\" stroke-width=\"2\" cx=\"714.5\" cy=\"-23.41\" rx=\"18\" ry=\"18\"/>\n<ellipse fill=\"none\" stroke=\"black\" stroke-width=\"2\" cx=\"714.5\" cy=\"-23.41\" rx=\"22\" ry=\"22\"/>\n<text text-anchor=\"middle\" x=\"714.5\" y=\"-19.71\" font-family=\"Times,serif\" font-size=\"14.00\">6</text>\n</g>\n<!-- 5&#45;&gt;6 -->\n<g id=\"edge21\" class=\"edge\">\n<title>5&#45;&gt;6</title>\n<path fill=\"none\" stroke=\"black\" d=\"M616.81,-23.41C634.08,-23.41 660.99,-23.41 682.04,-23.41\"/>\n<polygon fill=\"black\" stroke=\"black\" points=\"682.13,-26.91 692.13,-23.41 682.13,-19.91 682.13,-26.91\"/>\n<text text-anchor=\"middle\" x=\"654.5\" y=\"-27.21\" font-family=\"Times,serif\" font-size=\"14.00\">&#45;1:&#45;1/0</text>\n</g>\n</g>\n</svg>\n",
      "text/plain": [
       "<graphviz.graphs.Digraph at 0x7f51a43a8460>"
      ]
     },
     "execution_count": 11,
     "metadata": {},
     "output_type": "execute_result"
    }
   ],
   "source": [
    "k2.to_dot(Gs[1])"
   ]
  },
  {
   "cell_type": "code",
   "execution_count": 12,
   "metadata": {},
   "outputs": [
    {
     "data": {
      "text/plain": [
       "((219, None), 7024)"
      ]
     },
     "execution_count": 12,
     "metadata": {},
     "output_type": "execute_result"
    }
   ],
   "source": [
    "T.shape, T.num_arcs"
   ]
  },
  {
   "cell_type": "code",
   "execution_count": null,
   "metadata": {},
   "outputs": [
    {
     "name": "stderr",
     "output_type": "stream",
     "text": [
      "2023-01-28 22:24:14,173 - DEBUG - run_check:64 - run [PosixPath('dot'), '-Kdot', '-Tsvg']\n"
     ]
    },
    {
     "data": {
      "image/svg+xml": "<?xml version=\"1.0\" encoding=\"UTF-8\" standalone=\"no\"?>\n<!DOCTYPE svg PUBLIC \"-//W3C//DTD SVG 1.1//EN\"\n \"http://www.w3.org/Graphics/SVG/1.1/DTD/svg11.dtd\">\n<!-- Generated by graphviz version 2.50.0 (20220117.2223)\n -->\n<!-- Title: WFST Pages: 1 -->\n<svg width=\"534pt\" height=\"556pt\"\n viewBox=\"0.00 0.00 534.49 555.75\" xmlns=\"http://www.w3.org/2000/svg\" xmlns:xlink=\"http://www.w3.org/1999/xlink\">\n<g id=\"graph0\" class=\"graph\" transform=\"scale(1 1) rotate(0) translate(4 551.75)\">\n<title>WFST</title>\n<polygon fill=\"white\" stroke=\"transparent\" points=\"-4,4 -4,-551.75 530.49,-551.75 530.49,4 -4,4\"/>\n<!-- 0 -->\n<g id=\"node1\" class=\"node\">\n<title>0</title>\n<ellipse fill=\"none\" stroke=\"black\" stroke-width=\"2\" cx=\"23\" cy=\"-282.75\" rx=\"18\" ry=\"18\"/>\n<text text-anchor=\"middle\" x=\"23\" y=\"-279.05\" font-family=\"Times,serif\" font-size=\"14.00\">0</text>\n</g>\n<!-- 0&#45;&gt;0 -->\n<g id=\"edge1\" class=\"edge\">\n<title>0&#45;&gt;0</title>\n<path fill=\"none\" stroke=\"black\" d=\"M20.47,-300.9C20.08,-310.29 20.92,-318.75 23,-318.75 24.27,-318.75 25.07,-315.61 25.42,-311.03\"/>\n<polygon fill=\"black\" stroke=\"black\" points=\"28.93,-310.94 25.53,-300.9 21.93,-310.86 28.93,-310.94\"/>\n<text text-anchor=\"middle\" x=\"23\" y=\"-322.55\" font-family=\"Times,serif\" font-size=\"14.00\">4:1/0</text>\n</g>\n<!-- 0&#45;&gt;0 -->\n<g id=\"edge7\" class=\"edge\">\n<title>0&#45;&gt;0</title>\n<path fill=\"none\" stroke=\"black\" d=\"M18.83,-300.45C16.52,-317.74 17.91,-336.75 23,-336.75 27.09,-336.75 28.79,-324.44 28.1,-310.62\"/>\n<polygon fill=\"black\" stroke=\"black\" points=\"31.57,-310.09 27.17,-300.45 24.59,-310.72 31.57,-310.09\"/>\n<text text-anchor=\"middle\" x=\"23\" y=\"-340.55\" font-family=\"Times,serif\" font-size=\"14.00\">32:7/0</text>\n</g>\n<!-- 0&#45;&gt;0 -->\n<g id=\"edge8\" class=\"edge\">\n<title>0&#45;&gt;0</title>\n<path fill=\"none\" stroke=\"black\" d=\"M17.83,-300.1C12.95,-324.57 14.67,-354.75 23,-354.75 30.22,-354.75 32.48,-332.05 29.77,-310.07\"/>\n<polygon fill=\"black\" stroke=\"black\" points=\"33.21,-309.42 28.17,-300.1 26.3,-310.53 33.21,-309.42\"/>\n<text text-anchor=\"middle\" x=\"23\" y=\"-358.55\" font-family=\"Times,serif\" font-size=\"14.00\">33:9/0</text>\n</g>\n<!-- 0&#45;&gt;0 -->\n<g id=\"edge9\" class=\"edge\">\n<title>0&#45;&gt;0</title>\n<path fill=\"none\" stroke=\"black\" d=\"M17.13,-299.98C9.39,-331.21 11.35,-372.75 23,-372.75 33.42,-372.75 36.08,-339.51 30.99,-310.14\"/>\n<polygon fill=\"black\" stroke=\"black\" points=\"34.34,-309.05 28.87,-299.98 27.49,-310.48 34.34,-309.05\"/>\n<text text-anchor=\"middle\" x=\"23\" y=\"-376.55\" font-family=\"Times,serif\" font-size=\"14.00\">34:8/0</text>\n</g>\n<!-- 1 -->\n<g id=\"node2\" class=\"node\">\n<title>1</title>\n<ellipse fill=\"none\" stroke=\"black\" stroke-width=\"2\" cx=\"143.75\" cy=\"-437.75\" rx=\"18\" ry=\"18\"/>\n<text text-anchor=\"middle\" x=\"143.75\" y=\"-434.05\" font-family=\"Times,serif\" font-size=\"14.00\">1</text>\n</g>\n<!-- 0&#45;&gt;1 -->\n<g id=\"edge2\" class=\"edge\">\n<title>0&#45;&gt;1</title>\n<path fill=\"none\" stroke=\"black\" d=\"M23.74,-301.05C24.35,-327.46 29.34,-376.31 56,-405.75 71.37,-422.71 96.53,-430.71 115.81,-434.46\"/>\n<polygon fill=\"black\" stroke=\"black\" points=\"115.37,-437.94 125.81,-436.14 116.53,-431.03 115.37,-437.94\"/>\n<text text-anchor=\"middle\" x=\"79\" y=\"-434.55\" font-family=\"Times,serif\" font-size=\"14.00\">5:2/0</text>\n</g>\n<!-- 7 -->\n<g id=\"node3\" class=\"node\">\n<title>7</title>\n<ellipse fill=\"none\" stroke=\"black\" stroke-width=\"2\" cx=\"143.75\" cy=\"-529.75\" rx=\"18\" ry=\"18\"/>\n<text text-anchor=\"middle\" x=\"143.75\" y=\"-526.05\" font-family=\"Times,serif\" font-size=\"14.00\">7</text>\n</g>\n<!-- 0&#45;&gt;7 -->\n<g id=\"edge3\" class=\"edge\">\n<title>0&#45;&gt;7</title>\n<path fill=\"none\" stroke=\"black\" d=\"M24.38,-300.7C25.7,-346.75 31.48,-467.59 56,-497.75 70.59,-515.7 96.24,-523.58 115.88,-527.04\"/>\n<polygon fill=\"black\" stroke=\"black\" points=\"115.38,-530.5 125.78,-528.51 116.41,-523.58 115.38,-530.5\"/>\n<text text-anchor=\"middle\" x=\"79\" y=\"-526.55\" font-family=\"Times,serif\" font-size=\"14.00\">6:3/0</text>\n</g>\n<!-- 4 -->\n<g id=\"node4\" class=\"node\">\n<title>4</title>\n<ellipse fill=\"none\" stroke=\"black\" stroke-width=\"2\" cx=\"143.75\" cy=\"-345.75\" rx=\"18\" ry=\"18\"/>\n<text text-anchor=\"middle\" x=\"143.75\" y=\"-342.05\" font-family=\"Times,serif\" font-size=\"14.00\">4</text>\n</g>\n<!-- 0&#45;&gt;4 -->\n<g id=\"edge4\" class=\"edge\">\n<title>0&#45;&gt;4</title>\n<path fill=\"none\" stroke=\"black\" d=\"M38.86,-291.85C44.22,-295.06 50.34,-298.64 56,-301.75 76.73,-313.14 100.74,-325.24 118.24,-333.86\"/>\n<polygon fill=\"black\" stroke=\"black\" points=\"116.71,-337.01 127.23,-338.26 119.79,-330.72 116.71,-337.01\"/>\n<text text-anchor=\"middle\" x=\"79\" y=\"-328.55\" font-family=\"Times,serif\" font-size=\"14.00\">17:6/0</text>\n</g>\n<!-- 14 -->\n<g id=\"node5\" class=\"node\">\n<title>14</title>\n<ellipse fill=\"none\" stroke=\"black\" stroke-width=\"2\" cx=\"143.75\" cy=\"-100.75\" rx=\"23\" ry=\"23\"/>\n<text text-anchor=\"middle\" x=\"143.75\" y=\"-97.05\" font-family=\"Times,serif\" font-size=\"14.00\">14</text>\n</g>\n<!-- 0&#45;&gt;14 -->\n<g id=\"edge5\" class=\"edge\">\n<title>0&#45;&gt;14</title>\n<path fill=\"none\" stroke=\"black\" d=\"M25.57,-264.88C29.05,-229.14 38.52,-150.57 56,-130.75 69.81,-115.09 92.2,-107.6 110.78,-104.02\"/>\n<polygon fill=\"black\" stroke=\"black\" points=\"111.6,-107.43 120.91,-102.37 110.47,-100.52 111.6,-107.43\"/>\n<text text-anchor=\"middle\" x=\"79\" y=\"-134.55\" font-family=\"Times,serif\" font-size=\"14.00\">22:4/0</text>\n</g>\n<!-- 11 -->\n<g id=\"node6\" class=\"node\">\n<title>11</title>\n<ellipse fill=\"none\" stroke=\"black\" stroke-width=\"2\" cx=\"143.75\" cy=\"-215.75\" rx=\"23\" ry=\"23\"/>\n<text text-anchor=\"middle\" x=\"143.75\" y=\"-212.05\" font-family=\"Times,serif\" font-size=\"14.00\">11</text>\n</g>\n<!-- 0&#45;&gt;11 -->\n<g id=\"edge6\" class=\"edge\">\n<title>0&#45;&gt;11</title>\n<path fill=\"none\" stroke=\"black\" d=\"M38.92,-273.76C44.29,-270.56 50.39,-266.96 56,-263.75 75.4,-252.62 97.46,-240.43 114.47,-231.11\"/>\n<polygon fill=\"black\" stroke=\"black\" points=\"116.26,-234.12 123.36,-226.26 112.91,-227.98 116.26,-234.12\"/>\n<text text-anchor=\"middle\" x=\"79\" y=\"-267.55\" font-family=\"Times,serif\" font-size=\"14.00\">25:5/0</text>\n</g>\n<!-- 16 -->\n<g id=\"node7\" class=\"node\">\n<title>16</title>\n<ellipse fill=\"none\" stroke=\"black\" stroke-width=\"2\" cx=\"143.75\" cy=\"-282.75\" rx=\"22.96\" ry=\"22.96\"/>\n<ellipse fill=\"none\" stroke=\"black\" stroke-width=\"2\" cx=\"143.75\" cy=\"-282.75\" rx=\"27\" ry=\"27\"/>\n<text text-anchor=\"middle\" x=\"143.75\" y=\"-279.05\" font-family=\"Times,serif\" font-size=\"14.00\">16</text>\n</g>\n<!-- 0&#45;&gt;16 -->\n<g id=\"edge10\" class=\"edge\">\n<title>0&#45;&gt;16</title>\n<path fill=\"none\" stroke=\"black\" d=\"M41.01,-282.75C57.99,-282.75 84.6,-282.75 106.35,-282.75\"/>\n<polygon fill=\"black\" stroke=\"black\" points=\"106.57,-286.25 116.57,-282.75 106.57,-279.25 106.57,-286.25\"/>\n<text text-anchor=\"middle\" x=\"79\" y=\"-286.55\" font-family=\"Times,serif\" font-size=\"14.00\">&#45;1:&#45;1/0</text>\n</g>\n<!-- 2 -->\n<g id=\"node8\" class=\"node\">\n<title>2</title>\n<ellipse fill=\"none\" stroke=\"black\" stroke-width=\"2\" cx=\"269.5\" cy=\"-437.75\" rx=\"18\" ry=\"18\"/>\n<text text-anchor=\"middle\" x=\"269.5\" y=\"-434.05\" font-family=\"Times,serif\" font-size=\"14.00\">2</text>\n</g>\n<!-- 1&#45;&gt;2 -->\n<g id=\"edge11\" class=\"edge\">\n<title>1&#45;&gt;2</title>\n<path fill=\"none\" stroke=\"black\" d=\"M161.95,-437.75C182.46,-437.75 216.97,-437.75 241.14,-437.75\"/>\n<polygon fill=\"black\" stroke=\"black\" points=\"241.44,-441.25 251.44,-437.75 241.44,-434.25 241.44,-441.25\"/>\n<text text-anchor=\"middle\" x=\"208.5\" y=\"-441.55\" font-family=\"Times,serif\" font-size=\"14.00\">17:0/0</text>\n</g>\n<!-- 8 -->\n<g id=\"node12\" class=\"node\">\n<title>8</title>\n<ellipse fill=\"none\" stroke=\"black\" stroke-width=\"2\" cx=\"269.5\" cy=\"-529.75\" rx=\"18\" ry=\"18\"/>\n<text text-anchor=\"middle\" x=\"269.5\" y=\"-526.05\" font-family=\"Times,serif\" font-size=\"14.00\">8</text>\n</g>\n<!-- 7&#45;&gt;8 -->\n<g id=\"edge17\" class=\"edge\">\n<title>7&#45;&gt;8</title>\n<path fill=\"none\" stroke=\"black\" d=\"M161.95,-529.75C182.46,-529.75 216.97,-529.75 241.14,-529.75\"/>\n<polygon fill=\"black\" stroke=\"black\" points=\"241.44,-533.25 251.44,-529.75 241.44,-526.25 241.44,-533.25\"/>\n<text text-anchor=\"middle\" x=\"208.5\" y=\"-533.55\" font-family=\"Times,serif\" font-size=\"14.00\">11:0/0</text>\n</g>\n<!-- 5 -->\n<g id=\"node10\" class=\"node\">\n<title>5</title>\n<ellipse fill=\"none\" stroke=\"black\" stroke-width=\"2\" cx=\"269.5\" cy=\"-345.75\" rx=\"18\" ry=\"18\"/>\n<text text-anchor=\"middle\" x=\"269.5\" y=\"-342.05\" font-family=\"Times,serif\" font-size=\"14.00\">5</text>\n</g>\n<!-- 4&#45;&gt;5 -->\n<g id=\"edge14\" class=\"edge\">\n<title>4&#45;&gt;5</title>\n<path fill=\"none\" stroke=\"black\" d=\"M161.95,-345.75C182.46,-345.75 216.97,-345.75 241.14,-345.75\"/>\n<polygon fill=\"black\" stroke=\"black\" points=\"241.44,-349.25 251.44,-345.75 241.44,-342.25 241.44,-349.25\"/>\n<text text-anchor=\"middle\" x=\"208.5\" y=\"-349.55\" font-family=\"Times,serif\" font-size=\"14.00\">16:0/0</text>\n</g>\n<!-- 15 -->\n<g id=\"node17\" class=\"node\">\n<title>15</title>\n<ellipse fill=\"none\" stroke=\"black\" stroke-width=\"2\" cx=\"269.5\" cy=\"-111.75\" rx=\"23\" ry=\"23\"/>\n<text text-anchor=\"middle\" x=\"269.5\" y=\"-108.05\" font-family=\"Times,serif\" font-size=\"14.00\">15</text>\n</g>\n<!-- 14&#45;&gt;15 -->\n<g id=\"edge24\" class=\"edge\">\n<title>14&#45;&gt;15</title>\n<path fill=\"none\" stroke=\"black\" d=\"M166.59,-102.69C185.91,-104.41 214.35,-106.94 236.28,-108.88\"/>\n<polygon fill=\"black\" stroke=\"black\" points=\"236.19,-112.39 246.46,-109.79 236.81,-105.42 236.19,-112.39\"/>\n<text text-anchor=\"middle\" x=\"208.5\" y=\"-112.55\" font-family=\"Times,serif\" font-size=\"14.00\">8:0/0</text>\n</g>\n<!-- 12 -->\n<g id=\"node15\" class=\"node\">\n<title>12</title>\n<ellipse fill=\"none\" stroke=\"black\" stroke-width=\"2\" cx=\"269.5\" cy=\"-194.75\" rx=\"23\" ry=\"23\"/>\n<text text-anchor=\"middle\" x=\"269.5\" y=\"-191.05\" font-family=\"Times,serif\" font-size=\"14.00\">12</text>\n</g>\n<!-- 11&#45;&gt;12 -->\n<g id=\"edge21\" class=\"edge\">\n<title>11&#45;&gt;12</title>\n<path fill=\"none\" stroke=\"black\" d=\"M166.3,-212.09C185.79,-208.78 214.73,-203.87 236.84,-200.12\"/>\n<polygon fill=\"black\" stroke=\"black\" points=\"237.5,-203.56 246.77,-198.43 236.33,-196.66 237.5,-203.56\"/>\n<text text-anchor=\"middle\" x=\"208.5\" y=\"-211.55\" font-family=\"Times,serif\" font-size=\"14.00\">5:0/0</text>\n</g>\n<!-- 3 -->\n<g id=\"node9\" class=\"node\">\n<title>3</title>\n<ellipse fill=\"none\" stroke=\"black\" stroke-width=\"2\" cx=\"391.24\" cy=\"-449.75\" rx=\"18\" ry=\"18\"/>\n<text text-anchor=\"middle\" x=\"391.24\" y=\"-446.05\" font-family=\"Times,serif\" font-size=\"14.00\">3</text>\n</g>\n<!-- 2&#45;&gt;3 -->\n<g id=\"edge12\" class=\"edge\">\n<title>2&#45;&gt;3</title>\n<path fill=\"none\" stroke=\"black\" d=\"M287.65,-439.47C307.3,-441.44 339.77,-444.69 362.91,-447.01\"/>\n<polygon fill=\"black\" stroke=\"black\" points=\"362.82,-450.52 373.12,-448.03 363.52,-443.55 362.82,-450.52\"/>\n<text text-anchor=\"middle\" x=\"330.5\" y=\"-449.55\" font-family=\"Times,serif\" font-size=\"14.00\">17:0/0</text>\n</g>\n<!-- 3&#45;&gt;0 -->\n<g id=\"edge13\" class=\"edge\">\n<title>3&#45;&gt;0</title>\n<path fill=\"none\" stroke=\"black\" d=\"M374.92,-457.55C368.48,-460.42 360.8,-463.31 353.5,-464.75 196.7,-495.52 106.58,-503.02 56,-449.75 37.39,-430.15 29.03,-353.19 25.78,-310.92\"/>\n<polygon fill=\"black\" stroke=\"black\" points=\"29.26,-310.45 25.04,-300.73 22.28,-310.96 29.26,-310.45\"/>\n<text text-anchor=\"middle\" x=\"208.5\" y=\"-491.55\" font-family=\"Times,serif\" font-size=\"14.00\">7:0/0</text>\n</g>\n<!-- 6 -->\n<g id=\"node11\" class=\"node\">\n<title>6</title>\n<ellipse fill=\"none\" stroke=\"black\" stroke-width=\"2\" cx=\"391.24\" cy=\"-376.75\" rx=\"18\" ry=\"18\"/>\n<text text-anchor=\"middle\" x=\"391.24\" y=\"-373.05\" font-family=\"Times,serif\" font-size=\"14.00\">6</text>\n</g>\n<!-- 5&#45;&gt;6 -->\n<g id=\"edge15\" class=\"edge\">\n<title>5&#45;&gt;6</title>\n<path fill=\"none\" stroke=\"black\" d=\"M287.54,-348.41C304.46,-351.24 331.04,-356.22 353.5,-362.75 357.19,-363.82 361.03,-365.1 364.79,-366.44\"/>\n<polygon fill=\"black\" stroke=\"black\" points=\"363.74,-369.79 374.34,-370.04 366.21,-363.24 363.74,-369.79\"/>\n<text text-anchor=\"middle\" x=\"330.5\" y=\"-366.55\" font-family=\"Times,serif\" font-size=\"14.00\">19:0/0</text>\n</g>\n<!-- 6&#45;&gt;0 -->\n<g id=\"edge16\" class=\"edge\">\n<title>6&#45;&gt;0</title>\n<path fill=\"none\" stroke=\"black\" d=\"M373.29,-379.03C329.9,-384.34 211.59,-395.4 117,-372.75 87.81,-365.76 77.64,-364.55 56,-343.75 46.03,-334.16 38.54,-320.79 33.32,-309.01\"/>\n<polygon fill=\"black\" stroke=\"black\" points=\"36.5,-307.53 29.47,-299.61 30.02,-310.19 36.5,-307.53\"/>\n<text text-anchor=\"middle\" x=\"208.5\" y=\"-389.55\" font-family=\"Times,serif\" font-size=\"14.00\">11:0/0</text>\n</g>\n<!-- 9 -->\n<g id=\"node13\" class=\"node\">\n<title>9</title>\n<ellipse fill=\"none\" stroke=\"black\" stroke-width=\"2\" cx=\"391.24\" cy=\"-515.75\" rx=\"18\" ry=\"18\"/>\n<text text-anchor=\"middle\" x=\"391.24\" y=\"-512.05\" font-family=\"Times,serif\" font-size=\"14.00\">9</text>\n</g>\n<!-- 8&#45;&gt;9 -->\n<g id=\"edge18\" class=\"edge\">\n<title>8&#45;&gt;9</title>\n<path fill=\"none\" stroke=\"black\" d=\"M287.4,-527.77C307.08,-525.47 339.85,-521.64 363.1,-518.92\"/>\n<polygon fill=\"black\" stroke=\"black\" points=\"363.51,-522.4 373.04,-517.76 362.7,-515.44 363.51,-522.4\"/>\n<text text-anchor=\"middle\" x=\"330.5\" y=\"-528.55\" font-family=\"Times,serif\" font-size=\"14.00\">7:0/0</text>\n</g>\n<!-- 10 -->\n<g id=\"node14\" class=\"node\">\n<title>10</title>\n<ellipse fill=\"none\" stroke=\"black\" stroke-width=\"2\" cx=\"503.74\" cy=\"-22.75\" rx=\"23\" ry=\"23\"/>\n<text text-anchor=\"middle\" x=\"503.74\" y=\"-19.05\" font-family=\"Times,serif\" font-size=\"14.00\">10</text>\n</g>\n<!-- 9&#45;&gt;10 -->\n<g id=\"edge19\" class=\"edge\">\n<title>9&#45;&gt;10</title>\n<path fill=\"none\" stroke=\"black\" d=\"M401.87,-501.09C406.15,-493.99 410.9,-485.19 413.99,-476.75 469.37,-325.43 492.46,-132.44 499.85,-56.04\"/>\n<polygon fill=\"black\" stroke=\"black\" points=\"503.38,-55.91 500.83,-45.63 496.41,-55.26 503.38,-55.91\"/>\n<text text-anchor=\"middle\" x=\"447.49\" y=\"-432.55\" font-family=\"Times,serif\" font-size=\"14.00\">9:0/0</text>\n</g>\n<!-- 10&#45;&gt;0 -->\n<g id=\"edge20\" class=\"edge\">\n<title>10&#45;&gt;0</title>\n<path fill=\"none\" stroke=\"black\" d=\"M481.28,-17.77C459.11,-13.08 423.45,-6.75 392.24,-6.75 142.75,-6.75 142.75,-6.75 142.75,-6.75 95.36,-6.75 80.74,-28.33 56,-68.75 37.27,-99.34 28.68,-203.39 25.52,-254.27\"/>\n<polygon fill=\"black\" stroke=\"black\" points=\"22.01,-254.37 24.91,-264.56 28.99,-254.79 22.01,-254.37\"/>\n<text text-anchor=\"middle\" x=\"269.5\" y=\"-10.55\" font-family=\"Times,serif\" font-size=\"14.00\">26:0/0</text>\n</g>\n<!-- 13 -->\n<g id=\"node16\" class=\"node\">\n<title>13</title>\n<ellipse fill=\"none\" stroke=\"black\" stroke-width=\"2\" cx=\"391.24\" cy=\"-82.75\" rx=\"23\" ry=\"23\"/>\n<text text-anchor=\"middle\" x=\"391.24\" y=\"-79.05\" font-family=\"Times,serif\" font-size=\"14.00\">13</text>\n</g>\n<!-- 12&#45;&gt;13 -->\n<g id=\"edge22\" class=\"edge\">\n<title>12&#45;&gt;13</title>\n<path fill=\"none\" stroke=\"black\" d=\"M286.65,-179.64C307.18,-160.44 342.8,-127.12 366.45,-105.01\"/>\n<polygon fill=\"black\" stroke=\"black\" points=\"369.06,-107.36 373.97,-97.97 364.27,-102.25 369.06,-107.36\"/>\n<text text-anchor=\"middle\" x=\"330.5\" y=\"-161.55\" font-family=\"Times,serif\" font-size=\"14.00\">13:0/0</text>\n</g>\n<!-- 13&#45;&gt;0 -->\n<g id=\"edge23\" class=\"edge\">\n<title>13&#45;&gt;0</title>\n<path fill=\"none\" stroke=\"black\" d=\"M368.89,-77.36C322.28,-66.51 208.26,-45.03 117,-68.75 86.96,-76.55 74.01,-77.47 56,-102.75 38.94,-126.69 29.82,-210.22 26.07,-254.57\"/>\n<polygon fill=\"black\" stroke=\"black\" points=\"22.57,-254.44 25.26,-264.69 29.55,-255 22.57,-254.44\"/>\n<text text-anchor=\"middle\" x=\"208.5\" y=\"-62.55\" font-family=\"Times,serif\" font-size=\"14.00\">22:0/0</text>\n</g>\n<!-- 15&#45;&gt;0 -->\n<g id=\"edge25\" class=\"edge\">\n<title>15&#45;&gt;0</title>\n<path fill=\"none\" stroke=\"black\" d=\"M248.24,-120.79C242.83,-123.12 236.96,-125.59 231.5,-127.75 181.22,-147.6 162.2,-139.1 117,-168.75 81.81,-191.83 53.39,-232.42 37.61,-258.43\"/>\n<polygon fill=\"black\" stroke=\"black\" points=\"34.45,-256.9 32.37,-267.29 40.47,-260.46 34.45,-256.9\"/>\n<text text-anchor=\"middle\" x=\"143.75\" y=\"-172.55\" font-family=\"Times,serif\" font-size=\"14.00\">16:0/0</text>\n</g>\n</g>\n</svg>\n",
      "text/plain": [
       "<graphviz.graphs.Digraph at 0x7f3a5f0dc820>"
      ]
     },
     "execution_count": 12,
     "metadata": {},
     "output_type": "execute_result"
    }
   ],
   "source": [
    "k2.to_dot(L)"
   ]
  },
  {
   "cell_type": "code",
   "execution_count": 13,
   "metadata": {},
   "outputs": [
    {
     "name": "stdout",
     "output_type": "stream",
     "text": [
      "Intersecting L and G\n",
      "LG shape: (22, None)\n",
      "Connecting LG\n",
      "LG shape after k2.connect: (22, None)\n",
      "Determinizing LG\n",
      "Connecting LG after k2.determinize\n",
      "Composing T and LG\n",
      "Connecting TLG\n",
      "Arc sorting LG\n",
      "TLG.shape: (162, None)\n"
     ]
    }
   ],
   "source": [
    "T = k2.arc_sort(T)\n",
    "L = k2.arc_sort(L)\n",
    "G = k2.arc_sort(Gs[0])\n",
    "\n",
    "print(\"Intersecting L and G\")\n",
    "LG = k2.compose(L, G)\n",
    "print(f\"LG shape: {LG.shape}\")\n",
    "\n",
    "print(\"Connecting LG\")\n",
    "LG = k2.connect(LG)\n",
    "print(f\"LG shape after k2.connect: {LG.shape}\")\n",
    "\n",
    "print(\"Determinizing LG\")\n",
    "LG = k2.arc_sort(LG)\n",
    "LG = k2.determinize(LG)\n",
    "\n",
    "print(\"Connecting LG after k2.determinize\")\n",
    "LG = k2.connect(LG)\n",
    "\n",
    "# LG = k2.remove_epsilon(LG)\n",
    "# print(f\"LG shape after k2.remove_epsilon: {LG.shape}\")\n",
    "\n",
    "LG = k2.arc_sort(LG)\n",
    "\n",
    "print(\"Composing T and LG\")\n",
    "# CAUTION: The name of the inner_labels is fixed\n",
    "# to `tokens`. If you want to change it, please\n",
    "# also change other places in icefall that are using\n",
    "# it.\n",
    "TLG = k2.compose(T, LG, inner_labels=\"tokens\")\n",
    "\n",
    "print(\"Connecting TLG\")\n",
    "TLG = k2.connect(TLG)\n",
    "\n",
    "print(\"Arc sorting LG\")\n",
    "TLG = k2.arc_sort(TLG)\n",
    "print(f\"TLG.shape: {TLG.shape}\")"
   ]
  },
  {
   "cell_type": "code",
   "execution_count": 14,
   "metadata": {},
   "outputs": [
    {
     "name": "stderr",
     "output_type": "stream",
     "text": [
      "2023-01-28 22:28:35,136 - DEBUG - run_check:64 - run [PosixPath('dot'), '-Kdot', '-Tsvg']\n"
     ]
    },
    {
     "name": "stdout",
     "output_type": "stream",
     "text": [
      "Intersecting L and G\n",
      "LG shape: (2, None, None) 72\n"
     ]
    },
    {
     "data": {
      "image/svg+xml": "<?xml version=\"1.0\" encoding=\"UTF-8\" standalone=\"no\"?>\n<!DOCTYPE svg PUBLIC \"-//W3C//DTD SVG 1.1//EN\"\n \"http://www.w3.org/Graphics/SVG/1.1/DTD/svg11.dtd\">\n<!-- Generated by graphviz version 2.50.0 (20220117.2223)\n -->\n<!-- Title: WFST Pages: 1 -->\n<svg width=\"612pt\" height=\"30pt\"\n viewBox=\"0.00 0.00 612.00 29.59\" xmlns=\"http://www.w3.org/2000/svg\" xmlns:xlink=\"http://www.w3.org/1999/xlink\">\n<g id=\"graph0\" class=\"graph\" transform=\"scale(0.24 0.24) rotate(0) translate(4 119.5)\">\n<title>WFST</title>\n<polygon fill=\"white\" stroke=\"transparent\" points=\"-4,4 -4,-119.5 2549.96,-119.5 2549.96,4 -4,4\"/>\n<!-- 0 -->\n<g id=\"node1\" class=\"node\">\n<title>0</title>\n<ellipse fill=\"none\" stroke=\"black\" stroke-width=\"2\" cx=\"23\" cy=\"-26.75\" rx=\"18\" ry=\"18\"/>\n<text text-anchor=\"middle\" x=\"23\" y=\"-23.05\" font-family=\"Times,serif\" font-size=\"14.00\">0</text>\n</g>\n<!-- 0&#45;&gt;0 -->\n<g id=\"edge3\" class=\"edge\">\n<title>0&#45;&gt;0</title>\n<path fill=\"none\" stroke=\"black\" d=\"M14.37,-42.66C12.11,-52.9 14.99,-62.75 23,-62.75 28.26,-62.75 31.3,-58.51 32.14,-52.7\"/>\n<polygon fill=\"black\" stroke=\"black\" points=\"35.63,-52.48 31.63,-42.66 28.64,-52.83 35.63,-52.48\"/>\n<text text-anchor=\"middle\" x=\"23\" y=\"-66.55\" font-family=\"Times,serif\" font-size=\"14.00\">33:9/0</text>\n</g>\n<!-- 1 -->\n<g id=\"node2\" class=\"node\">\n<title>1</title>\n<ellipse fill=\"none\" stroke=\"black\" stroke-width=\"2\" cx=\"126\" cy=\"-58.75\" rx=\"18\" ry=\"18\"/>\n<text text-anchor=\"middle\" x=\"126\" y=\"-55.05\" font-family=\"Times,serif\" font-size=\"14.00\">1</text>\n</g>\n<!-- 0&#45;&gt;1 -->\n<g id=\"edge1\" class=\"edge\">\n<title>0&#45;&gt;1</title>\n<path fill=\"none\" stroke=\"black\" d=\"M40.68,-32.03C56.56,-37.06 80.71,-44.72 99.1,-50.54\"/>\n<polygon fill=\"black\" stroke=\"black\" points=\"98.04,-53.88 108.63,-53.56 100.16,-47.21 98.04,-53.88\"/>\n<text text-anchor=\"middle\" x=\"74.5\" y=\"-51.55\" font-family=\"Times,serif\" font-size=\"14.00\">5:2/0</text>\n</g>\n<!-- 2 -->\n<g id=\"node3\" class=\"node\">\n<title>2</title>\n<ellipse fill=\"none\" stroke=\"black\" stroke-width=\"2\" cx=\"476\" cy=\"-26.75\" rx=\"18\" ry=\"18\"/>\n<text text-anchor=\"middle\" x=\"476\" y=\"-23.05\" font-family=\"Times,serif\" font-size=\"14.00\">2</text>\n</g>\n<!-- 0&#45;&gt;2 -->\n<g id=\"edge2\" class=\"edge\">\n<title>0&#45;&gt;2</title>\n<path fill=\"none\" stroke=\"black\" d=\"M40.67,-22.46C60.59,-17.72 95,-10.75 125,-10.75 125,-10.75 125,-10.75 374,-10.75 399.55,-10.75 428.29,-15.8 448.56,-20.23\"/>\n<polygon fill=\"black\" stroke=\"black\" points=\"447.8,-23.65 458.33,-22.46 449.36,-16.82 447.8,-23.65\"/>\n<text text-anchor=\"middle\" x=\"249.5\" y=\"-14.55\" font-family=\"Times,serif\" font-size=\"14.00\">34:8/&#45;20</text>\n</g>\n<!-- 3 -->\n<g id=\"node4\" class=\"node\">\n<title>3</title>\n<ellipse fill=\"none\" stroke=\"black\" stroke-width=\"2\" cx=\"249.5\" cy=\"-61.75\" rx=\"18\" ry=\"18\"/>\n<text text-anchor=\"middle\" x=\"249.5\" y=\"-58.05\" font-family=\"Times,serif\" font-size=\"14.00\">3</text>\n</g>\n<!-- 1&#45;&gt;3 -->\n<g id=\"edge4\" class=\"edge\">\n<title>1&#45;&gt;3</title>\n<path fill=\"none\" stroke=\"black\" d=\"M144.15,-59.17C164.23,-59.67 197.75,-60.49 221.36,-61.08\"/>\n<polygon fill=\"black\" stroke=\"black\" points=\"221.35,-64.58 231.44,-61.33 221.53,-57.58 221.35,-64.58\"/>\n<text text-anchor=\"middle\" x=\"182\" y=\"-63.55\" font-family=\"Times,serif\" font-size=\"14.00\">17:0/0</text>\n</g>\n<!-- 2&#45;&gt;2 -->\n<g id=\"edge5\" class=\"edge\">\n<title>2&#45;&gt;2</title>\n<path fill=\"none\" stroke=\"black\" d=\"M471.51,-44.53C470.74,-54.06 472.24,-62.75 476,-62.75 478.29,-62.75 479.74,-59.52 480.35,-54.85\"/>\n<polygon fill=\"black\" stroke=\"black\" points=\"483.86,-54.58 480.49,-44.53 476.86,-54.48 483.86,-54.58\"/>\n<text text-anchor=\"middle\" x=\"476\" y=\"-66.55\" font-family=\"Times,serif\" font-size=\"14.00\">4:1/0</text>\n</g>\n<!-- 2&#45;&gt;2 -->\n<g id=\"edge8\" class=\"edge\">\n<title>2&#45;&gt;2</title>\n<path fill=\"none\" stroke=\"black\" d=\"M468.82,-43.33C464.33,-60.92 466.72,-80.75 476,-80.75 483.54,-80.75 486.53,-67.66 484.98,-53.32\"/>\n<polygon fill=\"black\" stroke=\"black\" points=\"488.4,-52.55 483.18,-43.33 481.51,-53.8 488.4,-52.55\"/>\n<text text-anchor=\"middle\" x=\"476\" y=\"-84.55\" font-family=\"Times,serif\" font-size=\"14.00\">33:9/0</text>\n</g>\n<!-- 4 -->\n<g id=\"node5\" class=\"node\">\n<title>4</title>\n<ellipse fill=\"none\" stroke=\"black\" stroke-width=\"2\" cx=\"579\" cy=\"-57.75\" rx=\"18\" ry=\"18\"/>\n<text text-anchor=\"middle\" x=\"579\" y=\"-54.05\" font-family=\"Times,serif\" font-size=\"14.00\">4</text>\n</g>\n<!-- 2&#45;&gt;4 -->\n<g id=\"edge6\" class=\"edge\">\n<title>2&#45;&gt;4</title>\n<path fill=\"none\" stroke=\"black\" d=\"M493.68,-31.87C509.49,-36.72 533.49,-44.09 551.84,-49.72\"/>\n<polygon fill=\"black\" stroke=\"black\" points=\"551.05,-53.14 561.63,-52.72 553.1,-46.44 551.05,-53.14\"/>\n<text text-anchor=\"middle\" x=\"527.5\" y=\"-50.55\" font-family=\"Times,serif\" font-size=\"14.00\">6:3/0</text>\n</g>\n<!-- 5 -->\n<g id=\"node6\" class=\"node\">\n<title>5</title>\n<ellipse fill=\"none\" stroke=\"black\" stroke-width=\"2\" cx=\"1049.99\" cy=\"-26.75\" rx=\"18\" ry=\"18\"/>\n<text text-anchor=\"middle\" x=\"1049.99\" y=\"-23.05\" font-family=\"Times,serif\" font-size=\"14.00\">5</text>\n</g>\n<!-- 2&#45;&gt;5 -->\n<g id=\"edge7\" class=\"edge\">\n<title>2&#45;&gt;5</title>\n<path fill=\"none\" stroke=\"black\" d=\"M493.67,-22.46C513.59,-17.72 548,-10.75 578,-10.75 578,-10.75 578,-10.75 934.24,-10.75 964.63,-10.75 999.12,-16.32 1022.28,-20.89\"/>\n<polygon fill=\"black\" stroke=\"black\" points=\"1021.87,-24.38 1032.37,-22.96 1023.28,-17.52 1021.87,-24.38\"/>\n<text text-anchor=\"middle\" x=\"753.5\" y=\"-14.55\" font-family=\"Times,serif\" font-size=\"14.00\">34:8/&#45;25</text>\n</g>\n<!-- 6 -->\n<g id=\"node7\" class=\"node\">\n<title>6</title>\n<ellipse fill=\"none\" stroke=\"black\" stroke-width=\"2\" cx=\"373\" cy=\"-58.75\" rx=\"18\" ry=\"18\"/>\n<text text-anchor=\"middle\" x=\"373\" y=\"-55.05\" font-family=\"Times,serif\" font-size=\"14.00\">6</text>\n</g>\n<!-- 3&#45;&gt;6 -->\n<g id=\"edge9\" class=\"edge\">\n<title>3&#45;&gt;6</title>\n<path fill=\"none\" stroke=\"black\" d=\"M267.65,-61.32C287.73,-60.83 321.25,-60 344.86,-59.42\"/>\n<polygon fill=\"black\" stroke=\"black\" points=\"345.03,-62.92 354.94,-59.17 344.85,-55.92 345.03,-62.92\"/>\n<text text-anchor=\"middle\" x=\"317\" y=\"-63.55\" font-family=\"Times,serif\" font-size=\"14.00\">17:0/0</text>\n</g>\n<!-- 7 -->\n<g id=\"node8\" class=\"node\">\n<title>7</title>\n<ellipse fill=\"none\" stroke=\"black\" stroke-width=\"2\" cx=\"691\" cy=\"-58.75\" rx=\"18\" ry=\"18\"/>\n<text text-anchor=\"middle\" x=\"691\" y=\"-55.05\" font-family=\"Times,serif\" font-size=\"14.00\">7</text>\n</g>\n<!-- 4&#45;&gt;7 -->\n<g id=\"edge10\" class=\"edge\">\n<title>4&#45;&gt;7</title>\n<path fill=\"none\" stroke=\"black\" d=\"M597.19,-57.9C614.79,-58.06 642.39,-58.32 662.93,-58.5\"/>\n<polygon fill=\"black\" stroke=\"black\" points=\"662.9,-62 672.93,-58.59 662.97,-55 662.9,-62\"/>\n<text text-anchor=\"middle\" x=\"635\" y=\"-61.55\" font-family=\"Times,serif\" font-size=\"14.00\">11:0/0</text>\n</g>\n<!-- 5&#45;&gt;5 -->\n<g id=\"edge11\" class=\"edge\">\n<title>5&#45;&gt;5</title>\n<path fill=\"none\" stroke=\"black\" d=\"M1044.99,-44.16C1044.06,-53.84 1045.73,-62.75 1049.99,-62.75 1052.66,-62.75 1054.31,-59.27 1054.94,-54.29\"/>\n<polygon fill=\"black\" stroke=\"black\" points=\"1058.44,-54.17 1054.99,-44.16 1051.44,-54.14 1058.44,-54.17\"/>\n<text text-anchor=\"middle\" x=\"1049.99\" y=\"-66.55\" font-family=\"Times,serif\" font-size=\"14.00\">4:1/0</text>\n</g>\n<!-- 5&#45;&gt;5 -->\n<g id=\"edge14\" class=\"edge\">\n<title>5&#45;&gt;5</title>\n<path fill=\"none\" stroke=\"black\" d=\"M1042.04,-43.06C1036.89,-60.71 1039.55,-80.75 1049.99,-80.75 1058.48,-80.75 1061.82,-67.52 1060.02,-53.09\"/>\n<polygon fill=\"black\" stroke=\"black\" points=\"1063.4,-52.14 1057.95,-43.06 1056.54,-53.56 1063.4,-52.14\"/>\n<text text-anchor=\"middle\" x=\"1049.99\" y=\"-84.55\" font-family=\"Times,serif\" font-size=\"14.00\">33:9/0</text>\n</g>\n<!-- 8 -->\n<g id=\"node9\" class=\"node\">\n<title>8</title>\n<ellipse fill=\"none\" stroke=\"black\" stroke-width=\"2\" cx=\"1161.99\" cy=\"-58.75\" rx=\"18\" ry=\"18\"/>\n<text text-anchor=\"middle\" x=\"1161.99\" y=\"-55.05\" font-family=\"Times,serif\" font-size=\"14.00\">8</text>\n</g>\n<!-- 5&#45;&gt;8 -->\n<g id=\"edge12\" class=\"edge\">\n<title>5&#45;&gt;8</title>\n<path fill=\"none\" stroke=\"black\" d=\"M1067.7,-31.61C1085.49,-36.78 1113.89,-45.05 1134.69,-51.1\"/>\n<polygon fill=\"black\" stroke=\"black\" points=\"1133.91,-54.51 1144.49,-53.95 1135.86,-47.79 1133.91,-54.51\"/>\n<text text-anchor=\"middle\" x=\"1105.99\" y=\"-52.55\" font-family=\"Times,serif\" font-size=\"14.00\">22:4/0</text>\n</g>\n<!-- 9 -->\n<g id=\"node10\" class=\"node\">\n<title>9</title>\n<ellipse fill=\"none\" stroke=\"black\" stroke-width=\"2\" cx=\"1408.49\" cy=\"-26.75\" rx=\"18\" ry=\"18\"/>\n<text text-anchor=\"middle\" x=\"1408.49\" y=\"-23.05\" font-family=\"Times,serif\" font-size=\"14.00\">9</text>\n</g>\n<!-- 5&#45;&gt;9 -->\n<g id=\"edge13\" class=\"edge\">\n<title>5&#45;&gt;9</title>\n<path fill=\"none\" stroke=\"black\" d=\"M1068.19,-26.75C1125.48,-26.75 1310.24,-26.75 1380.25,-26.75\"/>\n<polygon fill=\"black\" stroke=\"black\" points=\"1380.47,-30.25 1390.47,-26.75 1380.47,-23.25 1380.47,-30.25\"/>\n<text text-anchor=\"middle\" x=\"1224.49\" y=\"-30.55\" font-family=\"Times,serif\" font-size=\"14.00\">34:8/&#45;15</text>\n</g>\n<!-- 6&#45;&gt;2 -->\n<g id=\"edge15\" class=\"edge\">\n<title>6&#45;&gt;2</title>\n<path fill=\"none\" stroke=\"black\" d=\"M390.68,-53.46C406.56,-48.43 430.71,-40.78 449.1,-34.95\"/>\n<polygon fill=\"black\" stroke=\"black\" points=\"450.16,-38.29 458.63,-31.93 448.04,-31.62 450.16,-38.29\"/>\n<text text-anchor=\"middle\" x=\"424.5\" y=\"-51.55\" font-family=\"Times,serif\" font-size=\"14.00\">7:0/0</text>\n</g>\n<!-- 10 -->\n<g id=\"node11\" class=\"node\">\n<title>10</title>\n<ellipse fill=\"none\" stroke=\"black\" stroke-width=\"2\" cx=\"820.75\" cy=\"-61.75\" rx=\"23\" ry=\"23\"/>\n<text text-anchor=\"middle\" x=\"820.75\" y=\"-58.05\" font-family=\"Times,serif\" font-size=\"14.00\">10</text>\n</g>\n<!-- 7&#45;&gt;10 -->\n<g id=\"edge16\" class=\"edge\">\n<title>7&#45;&gt;10</title>\n<path fill=\"none\" stroke=\"black\" d=\"M709.23,-59.15C729.25,-59.62 762.72,-60.41 787.59,-60.99\"/>\n<polygon fill=\"black\" stroke=\"black\" points=\"787.58,-64.49 797.66,-61.23 787.74,-57.5 787.58,-64.49\"/>\n<text text-anchor=\"middle\" x=\"753.5\" y=\"-64.55\" font-family=\"Times,serif\" font-size=\"14.00\">7:0/0</text>\n</g>\n<!-- 11 -->\n<g id=\"node12\" class=\"node\">\n<title>11</title>\n<ellipse fill=\"none\" stroke=\"black\" stroke-width=\"2\" cx=\"1291.74\" cy=\"-61.75\" rx=\"23\" ry=\"23\"/>\n<text text-anchor=\"middle\" x=\"1291.74\" y=\"-58.05\" font-family=\"Times,serif\" font-size=\"14.00\">11</text>\n</g>\n<!-- 8&#45;&gt;11 -->\n<g id=\"edge17\" class=\"edge\">\n<title>8&#45;&gt;11</title>\n<path fill=\"none\" stroke=\"black\" d=\"M1180.22,-59.15C1200.24,-59.62 1233.71,-60.41 1258.58,-60.99\"/>\n<polygon fill=\"black\" stroke=\"black\" points=\"1258.57,-64.49 1268.65,-61.23 1258.74,-57.5 1258.57,-64.49\"/>\n<text text-anchor=\"middle\" x=\"1224.49\" y=\"-64.55\" font-family=\"Times,serif\" font-size=\"14.00\">8:0/0</text>\n</g>\n<!-- 9&#45;&gt;9 -->\n<g id=\"edge18\" class=\"edge\">\n<title>9&#45;&gt;9</title>\n<path fill=\"none\" stroke=\"black\" d=\"M1403.49,-44.16C1402.56,-53.84 1404.22,-62.75 1408.49,-62.75 1411.15,-62.75 1412.8,-59.27 1413.44,-54.29\"/>\n<polygon fill=\"black\" stroke=\"black\" points=\"1416.94,-54.17 1413.49,-44.16 1409.94,-54.14 1416.94,-54.17\"/>\n<text text-anchor=\"middle\" x=\"1408.49\" y=\"-66.55\" font-family=\"Times,serif\" font-size=\"14.00\">4:1/0</text>\n</g>\n<!-- 9&#45;&gt;9 -->\n<g id=\"edge21\" class=\"edge\">\n<title>9&#45;&gt;9</title>\n<path fill=\"none\" stroke=\"black\" d=\"M1400.53,-43.06C1395.39,-60.71 1398.04,-80.75 1408.49,-80.75 1416.97,-80.75 1420.32,-67.52 1418.51,-53.09\"/>\n<polygon fill=\"black\" stroke=\"black\" points=\"1421.89,-52.14 1416.44,-43.06 1415.04,-53.56 1421.89,-52.14\"/>\n<text text-anchor=\"middle\" x=\"1408.49\" y=\"-84.55\" font-family=\"Times,serif\" font-size=\"14.00\">33:9/0</text>\n</g>\n<!-- 12 -->\n<g id=\"node13\" class=\"node\">\n<title>12</title>\n<ellipse fill=\"none\" stroke=\"black\" stroke-width=\"2\" cx=\"1525.24\" cy=\"-63.75\" rx=\"23\" ry=\"23\"/>\n<text text-anchor=\"middle\" x=\"1525.24\" y=\"-60.05\" font-family=\"Times,serif\" font-size=\"14.00\">12</text>\n</g>\n<!-- 9&#45;&gt;12 -->\n<g id=\"edge19\" class=\"edge\">\n<title>9&#45;&gt;12</title>\n<path fill=\"none\" stroke=\"black\" d=\"M1425.93,-32.05C1443.48,-37.71 1471.68,-46.8 1493.39,-53.8\"/>\n<polygon fill=\"black\" stroke=\"black\" points=\"1492.56,-57.21 1503.15,-56.95 1494.7,-50.55 1492.56,-57.21\"/>\n<text text-anchor=\"middle\" x=\"1464.49\" y=\"-55.55\" font-family=\"Times,serif\" font-size=\"14.00\">25:5/0</text>\n</g>\n<!-- 13 -->\n<g id=\"node14\" class=\"node\">\n<title>13</title>\n<ellipse fill=\"none\" stroke=\"black\" stroke-width=\"2\" cx=\"1894.23\" cy=\"-26.75\" rx=\"23\" ry=\"23\"/>\n<text text-anchor=\"middle\" x=\"1894.23\" y=\"-23.05\" font-family=\"Times,serif\" font-size=\"14.00\">13</text>\n</g>\n<!-- 9&#45;&gt;13 -->\n<g id=\"edge20\" class=\"edge\">\n<title>9&#45;&gt;13</title>\n<path fill=\"none\" stroke=\"black\" d=\"M1426.11,-22.96C1448.34,-18.22 1489.04,-10.75 1524.24,-10.75 1524.24,-10.75 1524.24,-10.75 1773.73,-10.75 1803.82,-10.75 1837.79,-15.79 1861.8,-20.22\"/>\n<polygon fill=\"black\" stroke=\"black\" points=\"1861.28,-23.68 1871.76,-22.12 1862.59,-16.8 1861.28,-23.68\"/>\n<text text-anchor=\"middle\" x=\"1644.48\" y=\"-14.55\" font-family=\"Times,serif\" font-size=\"14.00\">34:8/&#45;20</text>\n</g>\n<!-- 14 -->\n<g id=\"node15\" class=\"node\">\n<title>14</title>\n<ellipse fill=\"none\" stroke=\"black\" stroke-width=\"2\" cx=\"933.24\" cy=\"-61.75\" rx=\"23\" ry=\"23\"/>\n<text text-anchor=\"middle\" x=\"933.24\" y=\"-58.05\" font-family=\"Times,serif\" font-size=\"14.00\">14</text>\n</g>\n<!-- 10&#45;&gt;14 -->\n<g id=\"edge22\" class=\"edge\">\n<title>10&#45;&gt;14</title>\n<path fill=\"none\" stroke=\"black\" d=\"M843.58,-61.75C859.77,-61.75 882.1,-61.75 900.3,-61.75\"/>\n<polygon fill=\"black\" stroke=\"black\" points=\"900.46,-65.25 910.46,-61.75 900.46,-58.25 900.46,-65.25\"/>\n<text text-anchor=\"middle\" x=\"877\" y=\"-65.55\" font-family=\"Times,serif\" font-size=\"14.00\">9:0/0</text>\n</g>\n<!-- 11&#45;&gt;9 -->\n<g id=\"edge23\" class=\"edge\">\n<title>11&#45;&gt;9</title>\n<path fill=\"none\" stroke=\"black\" d=\"M1313.79,-55.33C1332.83,-49.52 1360.93,-40.95 1381.4,-34.71\"/>\n<polygon fill=\"black\" stroke=\"black\" points=\"1382.49,-38.03 1391.03,-31.77 1380.45,-31.34 1382.49,-38.03\"/>\n<text text-anchor=\"middle\" x=\"1352.49\" y=\"-53.55\" font-family=\"Times,serif\" font-size=\"14.00\">16:0/0</text>\n</g>\n<!-- 15 -->\n<g id=\"node16\" class=\"node\">\n<title>15</title>\n<ellipse fill=\"none\" stroke=\"black\" stroke-width=\"2\" cx=\"1644.48\" cy=\"-66.75\" rx=\"23\" ry=\"23\"/>\n<text text-anchor=\"middle\" x=\"1644.48\" y=\"-63.05\" font-family=\"Times,serif\" font-size=\"14.00\">15</text>\n</g>\n<!-- 12&#45;&gt;15 -->\n<g id=\"edge24\" class=\"edge\">\n<title>12&#45;&gt;15</title>\n<path fill=\"none\" stroke=\"black\" d=\"M1548.01,-64.31C1565.75,-64.76 1591.06,-65.41 1611.16,-65.92\"/>\n<polygon fill=\"black\" stroke=\"black\" points=\"1611.34,-69.43 1621.42,-66.18 1611.52,-62.43 1611.34,-69.43\"/>\n<text text-anchor=\"middle\" x=\"1581.48\" y=\"-68.55\" font-family=\"Times,serif\" font-size=\"14.00\">5:0/0</text>\n</g>\n<!-- 13&#45;&gt;13 -->\n<g id=\"edge25\" class=\"edge\">\n<title>13&#45;&gt;13</title>\n<path fill=\"none\" stroke=\"black\" d=\"M1888.69,-48.96C1888.16,-58.9 1890.01,-67.5 1894.23,-67.5 1896.86,-67.5 1898.57,-64.14 1899.36,-59.19\"/>\n<polygon fill=\"black\" stroke=\"black\" points=\"1902.86,-59.09 1899.76,-48.96 1895.87,-58.82 1902.86,-59.09\"/>\n<text text-anchor=\"middle\" x=\"1894.23\" y=\"-71.3\" font-family=\"Times,serif\" font-size=\"14.00\">4:1/0</text>\n</g>\n<!-- 13&#45;&gt;13 -->\n<g id=\"edge28\" class=\"edge\">\n<title>13&#45;&gt;13</title>\n<path fill=\"none\" stroke=\"black\" d=\"M1884.91,-47.52C1880.52,-65.92 1883.62,-85.5 1894.23,-85.5 1902.93,-85.5 1906.58,-72.32 1905.19,-57.43\"/>\n<polygon fill=\"black\" stroke=\"black\" points=\"1908.64,-56.82 1903.55,-47.52 1901.73,-57.96 1908.64,-56.82\"/>\n<text text-anchor=\"middle\" x=\"1894.23\" y=\"-89.3\" font-family=\"Times,serif\" font-size=\"14.00\">33:9/0</text>\n</g>\n<!-- 16 -->\n<g id=\"node17\" class=\"node\">\n<title>16</title>\n<ellipse fill=\"none\" stroke=\"black\" stroke-width=\"2\" cx=\"2015.72\" cy=\"-63.75\" rx=\"23\" ry=\"23\"/>\n<text text-anchor=\"middle\" x=\"2015.72\" y=\"-60.05\" font-family=\"Times,serif\" font-size=\"14.00\">16</text>\n</g>\n<!-- 13&#45;&gt;16 -->\n<g id=\"edge26\" class=\"edge\">\n<title>13&#45;&gt;16</title>\n<path fill=\"none\" stroke=\"black\" d=\"M1916.32,-33.28C1935.09,-39.09 1962.78,-47.66 1984.01,-54.24\"/>\n<polygon fill=\"black\" stroke=\"black\" points=\"1983.26,-57.67 1993.85,-57.28 1985.33,-50.98 1983.26,-57.67\"/>\n<text text-anchor=\"middle\" x=\"1954.98\" y=\"-55.55\" font-family=\"Times,serif\" font-size=\"14.00\">17:6/0</text>\n</g>\n<!-- 17 -->\n<g id=\"node18\" class=\"node\">\n<title>17</title>\n<ellipse fill=\"none\" stroke=\"black\" stroke-width=\"2\" cx=\"2393.72\" cy=\"-26.75\" rx=\"23\" ry=\"23\"/>\n<text text-anchor=\"middle\" x=\"2393.72\" y=\"-23.05\" font-family=\"Times,serif\" font-size=\"14.00\">17</text>\n</g>\n<!-- 13&#45;&gt;17 -->\n<g id=\"edge27\" class=\"edge\">\n<title>13&#45;&gt;17</title>\n<path fill=\"none\" stroke=\"black\" d=\"M1916.7,-22.12C1940.53,-17.39 1980.19,-10.75 2014.72,-10.75 2014.72,-10.75 2014.72,-10.75 2273.22,-10.75 2303.3,-10.75 2337.27,-15.79 2361.28,-20.22\"/>\n<polygon fill=\"black\" stroke=\"black\" points=\"2360.76,-23.68 2371.24,-22.12 2362.08,-16.8 2360.76,-23.68\"/>\n<text text-anchor=\"middle\" x=\"2143.97\" y=\"-14.55\" font-family=\"Times,serif\" font-size=\"14.00\">34:8/&#45;20</text>\n</g>\n<!-- 14&#45;&gt;5 -->\n<g id=\"edge29\" class=\"edge\">\n<title>14&#45;&gt;5</title>\n<path fill=\"none\" stroke=\"black\" d=\"M955.29,-55.33C974.33,-49.52 1002.44,-40.95 1022.9,-34.71\"/>\n<polygon fill=\"black\" stroke=\"black\" points=\"1023.99,-38.03 1032.54,-31.77 1021.95,-31.34 1023.99,-38.03\"/>\n<text text-anchor=\"middle\" x=\"993.99\" y=\"-53.55\" font-family=\"Times,serif\" font-size=\"14.00\">26:0/0</text>\n</g>\n<!-- 18 -->\n<g id=\"node19\" class=\"node\">\n<title>18</title>\n<ellipse fill=\"none\" stroke=\"black\" stroke-width=\"2\" cx=\"1772.73\" cy=\"-63.75\" rx=\"23\" ry=\"23\"/>\n<text text-anchor=\"middle\" x=\"1772.73\" y=\"-60.05\" font-family=\"Times,serif\" font-size=\"14.00\">18</text>\n</g>\n<!-- 15&#45;&gt;18 -->\n<g id=\"edge30\" class=\"edge\">\n<title>15&#45;&gt;18</title>\n<path fill=\"none\" stroke=\"black\" d=\"M1667.47,-66.23C1687.36,-65.75 1716.88,-65.05 1739.44,-64.52\"/>\n<polygon fill=\"black\" stroke=\"black\" points=\"1739.66,-68.01 1749.57,-64.27 1739.49,-61.01 1739.66,-68.01\"/>\n<text text-anchor=\"middle\" x=\"1711.98\" y=\"-68.55\" font-family=\"Times,serif\" font-size=\"14.00\">13:0/0</text>\n</g>\n<!-- 19 -->\n<g id=\"node20\" class=\"node\">\n<title>19</title>\n<ellipse fill=\"none\" stroke=\"black\" stroke-width=\"2\" cx=\"2143.97\" cy=\"-66.75\" rx=\"23\" ry=\"23\"/>\n<text text-anchor=\"middle\" x=\"2143.97\" y=\"-63.05\" font-family=\"Times,serif\" font-size=\"14.00\">19</text>\n</g>\n<!-- 16&#45;&gt;19 -->\n<g id=\"edge31\" class=\"edge\">\n<title>16&#45;&gt;19</title>\n<path fill=\"none\" stroke=\"black\" d=\"M2038.71,-64.27C2058.6,-64.74 2088.12,-65.44 2110.68,-65.98\"/>\n<polygon fill=\"black\" stroke=\"black\" points=\"2110.73,-69.48 2120.81,-66.22 2110.9,-62.48 2110.73,-69.48\"/>\n<text text-anchor=\"middle\" x=\"2076.47\" y=\"-68.55\" font-family=\"Times,serif\" font-size=\"14.00\">16:0/0</text>\n</g>\n<!-- 17&#45;&gt;17 -->\n<g id=\"edge32\" class=\"edge\">\n<title>17&#45;&gt;17</title>\n<path fill=\"none\" stroke=\"black\" d=\"M2382.93,-46.87C2381.1,-57.67 2384.69,-67.5 2393.72,-67.5 2399.64,-67.5 2403.22,-63.26 2404.47,-57.3\"/>\n<polygon fill=\"black\" stroke=\"black\" points=\"2407.97,-56.89 2404.5,-46.87 2400.97,-56.86 2407.97,-56.89\"/>\n<text text-anchor=\"middle\" x=\"2393.72\" y=\"-71.3\" font-family=\"Times,serif\" font-size=\"14.00\">33:9/0</text>\n</g>\n<!-- 21 -->\n<g id=\"node21\" class=\"node\">\n<title>21</title>\n<ellipse fill=\"none\" stroke=\"black\" stroke-width=\"2\" cx=\"2519.21\" cy=\"-26.75\" rx=\"22.96\" ry=\"22.96\"/>\n<ellipse fill=\"none\" stroke=\"black\" stroke-width=\"2\" cx=\"2519.21\" cy=\"-26.75\" rx=\"27\" ry=\"27\"/>\n<text text-anchor=\"middle\" x=\"2519.21\" y=\"-23.05\" font-family=\"Times,serif\" font-size=\"14.00\">21</text>\n</g>\n<!-- 17&#45;&gt;21 -->\n<g id=\"edge33\" class=\"edge\">\n<title>17&#45;&gt;21</title>\n<path fill=\"none\" stroke=\"black\" d=\"M2416.51,-26.75C2434.64,-26.75 2460.81,-26.75 2482.07,-26.75\"/>\n<polygon fill=\"black\" stroke=\"black\" points=\"2482.36,-30.25 2492.36,-26.75 2482.36,-23.25 2482.36,-30.25\"/>\n<text text-anchor=\"middle\" x=\"2454.46\" y=\"-30.55\" font-family=\"Times,serif\" font-size=\"14.00\">&#45;1:&#45;1/0</text>\n</g>\n<!-- 18&#45;&gt;13 -->\n<g id=\"edge34\" class=\"edge\">\n<title>18&#45;&gt;13</title>\n<path fill=\"none\" stroke=\"black\" d=\"M1794.82,-57.22C1813.59,-51.41 1841.28,-42.83 1862.51,-36.26\"/>\n<polygon fill=\"black\" stroke=\"black\" points=\"1863.83,-39.51 1872.35,-33.21 1861.76,-32.83 1863.83,-39.51\"/>\n<text text-anchor=\"middle\" x=\"1833.48\" y=\"-55.55\" font-family=\"Times,serif\" font-size=\"14.00\">22:0/0</text>\n</g>\n<!-- 20 -->\n<g id=\"node22\" class=\"node\">\n<title>20</title>\n<ellipse fill=\"none\" stroke=\"black\" stroke-width=\"2\" cx=\"2272.22\" cy=\"-63.75\" rx=\"23\" ry=\"23\"/>\n<text text-anchor=\"middle\" x=\"2272.22\" y=\"-60.05\" font-family=\"Times,serif\" font-size=\"14.00\">20</text>\n</g>\n<!-- 19&#45;&gt;20 -->\n<g id=\"edge35\" class=\"edge\">\n<title>19&#45;&gt;20</title>\n<path fill=\"none\" stroke=\"black\" d=\"M2166.96,-66.23C2186.84,-65.75 2216.37,-65.05 2238.93,-64.52\"/>\n<polygon fill=\"black\" stroke=\"black\" points=\"2239.14,-68.01 2249.06,-64.27 2238.98,-61.01 2239.14,-68.01\"/>\n<text text-anchor=\"middle\" x=\"2211.47\" y=\"-68.55\" font-family=\"Times,serif\" font-size=\"14.00\">19:0/0</text>\n</g>\n<!-- 20&#45;&gt;17 -->\n<g id=\"edge36\" class=\"edge\">\n<title>20&#45;&gt;17</title>\n<path fill=\"none\" stroke=\"black\" d=\"M2294.31,-57.22C2313.08,-51.41 2340.77,-42.83 2362,-36.26\"/>\n<polygon fill=\"black\" stroke=\"black\" points=\"2363.32,-39.51 2371.84,-33.21 2361.25,-32.83 2363.32,-39.51\"/>\n<text text-anchor=\"middle\" x=\"2332.97\" y=\"-55.55\" font-family=\"Times,serif\" font-size=\"14.00\">11:0/0</text>\n</g>\n</g>\n</svg>\n",
      "text/plain": [
       "<graphviz.graphs.Digraph at 0x7f51b593d910>"
      ]
     },
     "execution_count": 14,
     "metadata": {},
     "output_type": "execute_result"
    }
   ],
   "source": [
    "T = k2.arc_sort(T)\n",
    "L = k2.arc_sort(L)\n",
    "G = k2.arc_sort(Gs)\n",
    "\n",
    "print(\"Intersecting L and G\")\n",
    "LG = k2.compose(L, G)\n",
    "print(f\"LG shape: {LG.shape} {LG.num_arcs}\")\n",
    "\n",
    "k2.to_dot(LG[0])\n"
   ]
  },
  {
   "cell_type": "code",
   "execution_count": null,
   "metadata": {},
   "outputs": [
    {
     "ename": "",
     "evalue": "",
     "output_type": "error",
     "traceback": [
      "\u001b[1;31mCanceled future for execute_request message before replies were done"
     ]
    },
    {
     "ename": "",
     "evalue": "",
     "output_type": "error",
     "traceback": [
      "\u001b[1;31mThe Kernel crashed while executing code in the the current cell or a previous cell. Please review the code in the cell(s) to identify a possible cause of the failure. Click <a href='https://aka.ms/vscodeJupyterKernelCrash'>here</a> for more info. View Jupyter <a href='command:jupyter.viewOutput'>log</a> for further details."
     ]
    }
   ],
   "source": [
    "LG = k2.connect(LG)\n",
    "\n",
    "LG = k2.determinize(LG)"
   ]
  },
  {
   "cell_type": "code",
   "execution_count": null,
   "metadata": {},
   "outputs": [],
   "source": []
  }
 ],
 "metadata": {
  "kernelspec": {
   "display_name": "Python 3",
   "language": "python",
   "name": "python3"
  },
  "language_info": {
   "codemirror_mode": {
    "name": "ipython",
    "version": 3
   },
   "file_extension": ".py",
   "mimetype": "text/x-python",
   "name": "python",
   "nbconvert_exporter": "python",
   "pygments_lexer": "ipython3",
   "version": "3.8.13"
  },
  "orig_nbformat": 4,
  "vscode": {
   "interpreter": {
    "hash": "68ff5fae483548fe4287363e85788a62158ac90d832ca7463809b26001cb21af"
   }
  }
 },
 "nbformat": 4,
 "nbformat_minor": 2
}
